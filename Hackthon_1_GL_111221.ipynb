{
 "cells": [
  {
   "cell_type": "markdown",
   "id": "138bf8e4",
   "metadata": {},
   "source": [
    "The aim of the problem is to predict whether an applicant will default on the Home loan payment or not. This prediction can be extremely useful for any loan disbursing financial services organization. For each ID in the Test Dataset, one should predict the “Default” level. "
   ]
  },
  {
   "cell_type": "markdown",
   "id": "0c31bd93",
   "metadata": {},
   "source": [
    "DATA DESCRIPTION:\n",
    "\n",
    "ID  - ID of the Applicant\n",
    "\n",
    "Loan Limit - Whether the loan limit exceeds the PSE(Public sector Enterprise) conforming limit\n",
    "              \n",
    "  cf-Conforming\n",
    "                \n",
    "  ncf-Non Conforming\n",
    "\n",
    "Gender  -  Gender of the Applicant\n",
    "\n",
    "approv_in_adv - Whether application involved a request for pre approval of the loan\n",
    "                    \n",
    " nopre-pre approval not requested\n",
    "                    \n",
    " pre-pre approval requested\n",
    "\n",
    "Loan_type - Type of loan the application comes under\n",
    "                \n",
    " type1-Home Loan\n",
    " type2-Commercial Purchase\n",
    " type3-Lease Rental Discounting\n",
    "                \n",
    "Loan_Purpose - Purpose of the loan\n",
    "  p1- Home Purchase\n",
    "                   \n",
    "  p2-Others\n",
    "                   \n",
    "  p3-Cash-out refinancing\n",
    "                   \n",
    "  p4-Refinancing\n",
    "                       \n",
    "Credit_Worthiness - Credit worthiness or Lien is a claim or legal right against assets that are used as collateral for a debt.,Lien status of the property \n",
    "  \n",
    "  securing covered loan\n",
    "  \n",
    "  l1-Secured by first lien\n",
    "  \n",
    "  l2-Secured by second lien\n",
    "\n",
    "\n",
    "Open credit - Open-end credit is a preapproved loan that a bank or financial institution lends to a borrower.\n",
    "    \n",
    "   opc-Open end credit\n",
    "    \n",
    "   nopc-Not Open end credit\n",
    "\n",
    "Business or Commercial - b/c- For Business or commercial\n",
    "                         nob/c- Not for Business or Commercial\n",
    "              \n",
    "Loan_amount - Amount applied for\n",
    "    \n",
    "   Rate_of_interest - Interest on the amount\n",
    "    \n",
    "   Interest rate spread - Interest rate spread is the difference between the average yield a \n",
    "                           financial institution receives from loans and the average rate it \n",
    "                           pays on deposits and borrowings\n",
    "\n",
    "Upfront Charges - Its the fee charged by a lender to process a new loan application\n",
    "    \n",
    "Term  - Tenure of the loan\n",
    "    \n",
    "Neg_ammortization - Negative amortization is an increase in the principal balance of a \n",
    "                    loan caused by a failure to cover the interest due on that loan.\n",
    "                  \n",
    "  neg_amm-Negative Amortization \n",
    "                  \n",
    "  not_neg-Not Negative\n",
    "\n",
    "Interest_only - Whether application terms include interest only payments\n",
    "                    \n",
    "   int_only-Interest only payment\n",
    "                    \n",
    "   not_int-No interest only payment\n",
    "   \n",
    "   \n",
    "Lump_sum_payment - Lump sum payment or Balloon payment is a payment which is attached to a loan, usually made towards the end \n",
    "of the loan period.\n",
    "\n",
    "lpsm-Lumpsum Payment\n",
    "\n",
    "not_lpsm-No Lumpsum Payment\n",
    "\n",
    "\n",
    "Property Value  - Value of the property securing the covered loan.\n",
    "\n",
    "Construction_type - Type of Construction of the home or property\n",
    " \n",
    " sb- Site Built\n",
    "\n",
    " mh-Manufactured Home\n",
    " \n",
    " Occupancy Type - Kind of residence \n",
    "  \n",
    "  pr-Primary Residence\n",
    "  \n",
    "  sr-Second Residence\n",
    "  \n",
    "  ir-Investment Property\n",
    "  \n",
    "  \n",
    "Secured by - Loan secured by\n",
    " Land\n",
    " \n",
    " Home\n",
    " \n",
    "Total units - Number of dwelling units(rooms) related to the property covering the loan\n",
    "\n",
    "1U, 2U, 3U, 4U\n",
    "\n",
    "Income  - Income of the applicant\n",
    "\n",
    "dtir - Debt to income Ratio\n",
    "\n",
    "Credit type - The type of the credit scoring model used\n",
    "\n",
    " CIB- CIBIL\n",
    "\n",
    " EXP-Experian\n",
    "\n",
    " EQUI-Equifax\n",
    "\n",
    " CRIF-CRIF\n",
    "\n",
    "Credit_score  - The credit score of the applicant\n",
    "\n",
    "Co-applicant_credit_type - The type of the credit scoring model used\n",
    " \n",
    " CIB-CIBIL\n",
    " \n",
    " EXP-Experian\n",
    "age -  Age of the applicant\n",
    "\n",
    "Submission of the application - Type of submission of application\n",
    "\n",
    "   to_inst-Submitted directly to the institution\n",
    "\n",
    "   not_inst-Not submitted directly\n",
    "   \n",
    "   NA\n",
    "\n",
    "LTV - Loan to value ratio of the property covering the loan in percentage\n",
    "\n",
    "Region - Applicant region \n",
    "\n",
    "Security Type - Property securing the loan \n",
    "\n",
    " Indirect\n",
    "\n",
    " Direct\n",
    "\n",
    "year  - Application year\n",
    "\n",
    "\n",
    "Status - Loan status\n",
    "\n",
    "   1-Defaulted\n",
    "\n",
    "   0-Not Defaulted\n"
   ]
  },
  {
   "cell_type": "code",
   "execution_count": 1,
   "id": "66fb9c76",
   "metadata": {},
   "outputs": [],
   "source": [
    "import numpy as np\n",
    "import pandas as pd\n",
    "import matplotlib.pyplot as plt\n",
    "import seaborn as sns\n",
    "from warnings import filterwarnings\n",
    "filterwarnings('ignore')"
   ]
  },
  {
   "cell_type": "code",
   "execution_count": 2,
   "id": "ffe5d30b",
   "metadata": {},
   "outputs": [
    {
     "data": {
      "text/html": [
       "<div>\n",
       "<style scoped>\n",
       "    .dataframe tbody tr th:only-of-type {\n",
       "        vertical-align: middle;\n",
       "    }\n",
       "\n",
       "    .dataframe tbody tr th {\n",
       "        vertical-align: top;\n",
       "    }\n",
       "\n",
       "    .dataframe thead th {\n",
       "        text-align: right;\n",
       "    }\n",
       "</style>\n",
       "<table border=\"1\" class=\"dataframe\">\n",
       "  <thead>\n",
       "    <tr style=\"text-align: right;\">\n",
       "      <th></th>\n",
       "      <th>ID</th>\n",
       "      <th>year</th>\n",
       "      <th>loan_limit</th>\n",
       "      <th>Gender</th>\n",
       "      <th>approv_in_adv</th>\n",
       "      <th>loan_type</th>\n",
       "      <th>loan_purpose</th>\n",
       "      <th>Credit_Worthiness</th>\n",
       "      <th>open_credit</th>\n",
       "      <th>business_or_commercial</th>\n",
       "      <th>...</th>\n",
       "      <th>credit_type</th>\n",
       "      <th>Credit_Score</th>\n",
       "      <th>co-applicant_credit_type</th>\n",
       "      <th>age</th>\n",
       "      <th>submission_of_application</th>\n",
       "      <th>LTV</th>\n",
       "      <th>Region</th>\n",
       "      <th>Security_Type</th>\n",
       "      <th>Status</th>\n",
       "      <th>dtir1</th>\n",
       "    </tr>\n",
       "  </thead>\n",
       "  <tbody>\n",
       "    <tr>\n",
       "      <th>0</th>\n",
       "      <td>24890</td>\n",
       "      <td>2019</td>\n",
       "      <td>cf</td>\n",
       "      <td>Sex Not Available</td>\n",
       "      <td>nopre</td>\n",
       "      <td>type1</td>\n",
       "      <td>p1</td>\n",
       "      <td>l1</td>\n",
       "      <td>nopc</td>\n",
       "      <td>nob/c</td>\n",
       "      <td>...</td>\n",
       "      <td>EXP</td>\n",
       "      <td>758</td>\n",
       "      <td>CIB</td>\n",
       "      <td>25-34</td>\n",
       "      <td>to_inst</td>\n",
       "      <td>98.728814</td>\n",
       "      <td>south</td>\n",
       "      <td>direct</td>\n",
       "      <td>1</td>\n",
       "      <td>45.0</td>\n",
       "    </tr>\n",
       "    <tr>\n",
       "      <th>1</th>\n",
       "      <td>24891</td>\n",
       "      <td>2019</td>\n",
       "      <td>cf</td>\n",
       "      <td>Male</td>\n",
       "      <td>nopre</td>\n",
       "      <td>type2</td>\n",
       "      <td>p1</td>\n",
       "      <td>l1</td>\n",
       "      <td>nopc</td>\n",
       "      <td>b/c</td>\n",
       "      <td>...</td>\n",
       "      <td>EQUI</td>\n",
       "      <td>552</td>\n",
       "      <td>EXP</td>\n",
       "      <td>55-64</td>\n",
       "      <td>to_inst</td>\n",
       "      <td>NaN</td>\n",
       "      <td>North</td>\n",
       "      <td>direct</td>\n",
       "      <td>1</td>\n",
       "      <td>NaN</td>\n",
       "    </tr>\n",
       "    <tr>\n",
       "      <th>2</th>\n",
       "      <td>24892</td>\n",
       "      <td>2019</td>\n",
       "      <td>cf</td>\n",
       "      <td>Male</td>\n",
       "      <td>pre</td>\n",
       "      <td>type1</td>\n",
       "      <td>p1</td>\n",
       "      <td>l1</td>\n",
       "      <td>nopc</td>\n",
       "      <td>nob/c</td>\n",
       "      <td>...</td>\n",
       "      <td>EXP</td>\n",
       "      <td>834</td>\n",
       "      <td>CIB</td>\n",
       "      <td>35-44</td>\n",
       "      <td>to_inst</td>\n",
       "      <td>80.019685</td>\n",
       "      <td>south</td>\n",
       "      <td>direct</td>\n",
       "      <td>0</td>\n",
       "      <td>46.0</td>\n",
       "    </tr>\n",
       "    <tr>\n",
       "      <th>3</th>\n",
       "      <td>24893</td>\n",
       "      <td>2019</td>\n",
       "      <td>cf</td>\n",
       "      <td>Male</td>\n",
       "      <td>nopre</td>\n",
       "      <td>type1</td>\n",
       "      <td>p4</td>\n",
       "      <td>l1</td>\n",
       "      <td>nopc</td>\n",
       "      <td>nob/c</td>\n",
       "      <td>...</td>\n",
       "      <td>EXP</td>\n",
       "      <td>587</td>\n",
       "      <td>CIB</td>\n",
       "      <td>45-54</td>\n",
       "      <td>not_inst</td>\n",
       "      <td>69.376900</td>\n",
       "      <td>North</td>\n",
       "      <td>direct</td>\n",
       "      <td>0</td>\n",
       "      <td>42.0</td>\n",
       "    </tr>\n",
       "    <tr>\n",
       "      <th>4</th>\n",
       "      <td>24894</td>\n",
       "      <td>2019</td>\n",
       "      <td>cf</td>\n",
       "      <td>Joint</td>\n",
       "      <td>pre</td>\n",
       "      <td>type1</td>\n",
       "      <td>p1</td>\n",
       "      <td>l1</td>\n",
       "      <td>nopc</td>\n",
       "      <td>nob/c</td>\n",
       "      <td>...</td>\n",
       "      <td>CRIF</td>\n",
       "      <td>602</td>\n",
       "      <td>EXP</td>\n",
       "      <td>25-34</td>\n",
       "      <td>not_inst</td>\n",
       "      <td>91.886544</td>\n",
       "      <td>North</td>\n",
       "      <td>direct</td>\n",
       "      <td>0</td>\n",
       "      <td>39.0</td>\n",
       "    </tr>\n",
       "  </tbody>\n",
       "</table>\n",
       "<p>5 rows × 34 columns</p>\n",
       "</div>"
      ],
      "text/plain": [
       "      ID  year loan_limit             Gender approv_in_adv loan_type  \\\n",
       "0  24890  2019         cf  Sex Not Available         nopre     type1   \n",
       "1  24891  2019         cf               Male         nopre     type2   \n",
       "2  24892  2019         cf               Male           pre     type1   \n",
       "3  24893  2019         cf               Male         nopre     type1   \n",
       "4  24894  2019         cf              Joint           pre     type1   \n",
       "\n",
       "  loan_purpose Credit_Worthiness open_credit business_or_commercial  ...  \\\n",
       "0           p1                l1        nopc                  nob/c  ...   \n",
       "1           p1                l1        nopc                    b/c  ...   \n",
       "2           p1                l1        nopc                  nob/c  ...   \n",
       "3           p4                l1        nopc                  nob/c  ...   \n",
       "4           p1                l1        nopc                  nob/c  ...   \n",
       "\n",
       "   credit_type  Credit_Score  co-applicant_credit_type    age  \\\n",
       "0          EXP           758                       CIB  25-34   \n",
       "1         EQUI           552                       EXP  55-64   \n",
       "2          EXP           834                       CIB  35-44   \n",
       "3          EXP           587                       CIB  45-54   \n",
       "4         CRIF           602                       EXP  25-34   \n",
       "\n",
       "   submission_of_application        LTV Region Security_Type  Status dtir1  \n",
       "0                    to_inst  98.728814  south        direct       1  45.0  \n",
       "1                    to_inst        NaN  North        direct       1   NaN  \n",
       "2                    to_inst  80.019685  south        direct       0  46.0  \n",
       "3                   not_inst  69.376900  North        direct       0  42.0  \n",
       "4                   not_inst  91.886544  North        direct       0  39.0  \n",
       "\n",
       "[5 rows x 34 columns]"
      ]
     },
     "execution_count": 2,
     "metadata": {},
     "output_type": "execute_result"
    }
   ],
   "source": [
    "df1 = pd.read_csv('train_data.csv')\n",
    "df1.head()"
   ]
  },
  {
   "cell_type": "code",
   "execution_count": 3,
   "id": "c2655ce5",
   "metadata": {},
   "outputs": [
    {
     "data": {
      "text/html": [
       "<div>\n",
       "<style scoped>\n",
       "    .dataframe tbody tr th:only-of-type {\n",
       "        vertical-align: middle;\n",
       "    }\n",
       "\n",
       "    .dataframe tbody tr th {\n",
       "        vertical-align: top;\n",
       "    }\n",
       "\n",
       "    .dataframe thead th {\n",
       "        text-align: right;\n",
       "    }\n",
       "</style>\n",
       "<table border=\"1\" class=\"dataframe\">\n",
       "  <thead>\n",
       "    <tr style=\"text-align: right;\">\n",
       "      <th></th>\n",
       "      <th>ID</th>\n",
       "      <th>year</th>\n",
       "      <th>loan_limit</th>\n",
       "      <th>Gender</th>\n",
       "      <th>approv_in_adv</th>\n",
       "      <th>loan_type</th>\n",
       "      <th>loan_purpose</th>\n",
       "      <th>Credit_Worthiness</th>\n",
       "      <th>open_credit</th>\n",
       "      <th>business_or_commercial</th>\n",
       "      <th>...</th>\n",
       "      <th>income</th>\n",
       "      <th>credit_type</th>\n",
       "      <th>Credit_Score</th>\n",
       "      <th>co-applicant_credit_type</th>\n",
       "      <th>age</th>\n",
       "      <th>submission_of_application</th>\n",
       "      <th>LTV</th>\n",
       "      <th>Region</th>\n",
       "      <th>Security_Type</th>\n",
       "      <th>dtir1</th>\n",
       "    </tr>\n",
       "  </thead>\n",
       "  <tbody>\n",
       "    <tr>\n",
       "      <th>0</th>\n",
       "      <td>173560</td>\n",
       "      <td>2019</td>\n",
       "      <td>cf</td>\n",
       "      <td>Male</td>\n",
       "      <td>nopre</td>\n",
       "      <td>type1</td>\n",
       "      <td>p4</td>\n",
       "      <td>l1</td>\n",
       "      <td>nopc</td>\n",
       "      <td>nob/c</td>\n",
       "      <td>...</td>\n",
       "      <td>9480.0</td>\n",
       "      <td>EXP</td>\n",
       "      <td>502</td>\n",
       "      <td>CIB</td>\n",
       "      <td>55-64</td>\n",
       "      <td>not_inst</td>\n",
       "      <td>86.525974</td>\n",
       "      <td>North</td>\n",
       "      <td>direct</td>\n",
       "      <td>18.0</td>\n",
       "    </tr>\n",
       "    <tr>\n",
       "      <th>1</th>\n",
       "      <td>173561</td>\n",
       "      <td>2019</td>\n",
       "      <td>cf</td>\n",
       "      <td>Sex Not Available</td>\n",
       "      <td>nopre</td>\n",
       "      <td>type1</td>\n",
       "      <td>p3</td>\n",
       "      <td>l1</td>\n",
       "      <td>nopc</td>\n",
       "      <td>nob/c</td>\n",
       "      <td>...</td>\n",
       "      <td>1620.0</td>\n",
       "      <td>EXP</td>\n",
       "      <td>526</td>\n",
       "      <td>CIB</td>\n",
       "      <td>55-64</td>\n",
       "      <td>to_inst</td>\n",
       "      <td>61.968085</td>\n",
       "      <td>south</td>\n",
       "      <td>direct</td>\n",
       "      <td>38.0</td>\n",
       "    </tr>\n",
       "    <tr>\n",
       "      <th>2</th>\n",
       "      <td>173562</td>\n",
       "      <td>2019</td>\n",
       "      <td>cf</td>\n",
       "      <td>Joint</td>\n",
       "      <td>nopre</td>\n",
       "      <td>type2</td>\n",
       "      <td>p1</td>\n",
       "      <td>l1</td>\n",
       "      <td>nopc</td>\n",
       "      <td>b/c</td>\n",
       "      <td>...</td>\n",
       "      <td>3240.0</td>\n",
       "      <td>CRIF</td>\n",
       "      <td>827</td>\n",
       "      <td>EXP</td>\n",
       "      <td>&lt;25</td>\n",
       "      <td>to_inst</td>\n",
       "      <td>94.471154</td>\n",
       "      <td>North</td>\n",
       "      <td>direct</td>\n",
       "      <td>59.0</td>\n",
       "    </tr>\n",
       "    <tr>\n",
       "      <th>3</th>\n",
       "      <td>173563</td>\n",
       "      <td>2019</td>\n",
       "      <td>cf</td>\n",
       "      <td>Male</td>\n",
       "      <td>nopre</td>\n",
       "      <td>type1</td>\n",
       "      <td>p1</td>\n",
       "      <td>l1</td>\n",
       "      <td>nopc</td>\n",
       "      <td>nob/c</td>\n",
       "      <td>...</td>\n",
       "      <td>2100.0</td>\n",
       "      <td>EXP</td>\n",
       "      <td>591</td>\n",
       "      <td>CIB</td>\n",
       "      <td>55-64</td>\n",
       "      <td>to_inst</td>\n",
       "      <td>91.015625</td>\n",
       "      <td>North</td>\n",
       "      <td>direct</td>\n",
       "      <td>42.0</td>\n",
       "    </tr>\n",
       "    <tr>\n",
       "      <th>4</th>\n",
       "      <td>173564</td>\n",
       "      <td>2019</td>\n",
       "      <td>cf</td>\n",
       "      <td>Joint</td>\n",
       "      <td>nopre</td>\n",
       "      <td>type2</td>\n",
       "      <td>p3</td>\n",
       "      <td>l1</td>\n",
       "      <td>nopc</td>\n",
       "      <td>b/c</td>\n",
       "      <td>...</td>\n",
       "      <td>6180.0</td>\n",
       "      <td>EXP</td>\n",
       "      <td>598</td>\n",
       "      <td>EXP</td>\n",
       "      <td>35-44</td>\n",
       "      <td>to_inst</td>\n",
       "      <td>96.383648</td>\n",
       "      <td>North</td>\n",
       "      <td>direct</td>\n",
       "      <td>47.0</td>\n",
       "    </tr>\n",
       "  </tbody>\n",
       "</table>\n",
       "<p>5 rows × 33 columns</p>\n",
       "</div>"
      ],
      "text/plain": [
       "       ID  year loan_limit             Gender approv_in_adv loan_type  \\\n",
       "0  173560  2019         cf               Male         nopre     type1   \n",
       "1  173561  2019         cf  Sex Not Available         nopre     type1   \n",
       "2  173562  2019         cf              Joint         nopre     type2   \n",
       "3  173563  2019         cf               Male         nopre     type1   \n",
       "4  173564  2019         cf              Joint         nopre     type2   \n",
       "\n",
       "  loan_purpose Credit_Worthiness open_credit business_or_commercial  ...  \\\n",
       "0           p4                l1        nopc                  nob/c  ...   \n",
       "1           p3                l1        nopc                  nob/c  ...   \n",
       "2           p1                l1        nopc                    b/c  ...   \n",
       "3           p1                l1        nopc                  nob/c  ...   \n",
       "4           p3                l1        nopc                    b/c  ...   \n",
       "\n",
       "   income  credit_type  Credit_Score  co-applicant_credit_type    age  \\\n",
       "0  9480.0          EXP           502                       CIB  55-64   \n",
       "1  1620.0          EXP           526                       CIB  55-64   \n",
       "2  3240.0         CRIF           827                       EXP    <25   \n",
       "3  2100.0          EXP           591                       CIB  55-64   \n",
       "4  6180.0          EXP           598                       EXP  35-44   \n",
       "\n",
       "  submission_of_application        LTV Region  Security_Type dtir1  \n",
       "0                  not_inst  86.525974  North         direct  18.0  \n",
       "1                   to_inst  61.968085  south         direct  38.0  \n",
       "2                   to_inst  94.471154  North         direct  59.0  \n",
       "3                   to_inst  91.015625  North         direct  42.0  \n",
       "4                   to_inst  96.383648  North         direct  47.0  \n",
       "\n",
       "[5 rows x 33 columns]"
      ]
     },
     "execution_count": 3,
     "metadata": {},
     "output_type": "execute_result"
    }
   ],
   "source": [
    "df2 = pd.read_csv('test_data.csv')\n",
    "df2.head()"
   ]
  },
  {
   "cell_type": "code",
   "execution_count": 4,
   "id": "aea15120",
   "metadata": {},
   "outputs": [
    {
     "data": {
      "text/plain": [
       "(148670, 34)"
      ]
     },
     "execution_count": 4,
     "metadata": {},
     "output_type": "execute_result"
    }
   ],
   "source": [
    "df1.shape"
   ]
  },
  {
   "cell_type": "code",
   "execution_count": 5,
   "id": "2cdee1c2",
   "metadata": {},
   "outputs": [
    {
     "data": {
      "text/plain": [
       "(63717, 33)"
      ]
     },
     "execution_count": 5,
     "metadata": {},
     "output_type": "execute_result"
    }
   ],
   "source": [
    "df2.shape"
   ]
  },
  {
   "cell_type": "code",
   "execution_count": 6,
   "id": "ab616fcd",
   "metadata": {},
   "outputs": [
    {
     "name": "stdout",
     "output_type": "stream",
     "text": [
      "<class 'pandas.core.frame.DataFrame'>\n",
      "RangeIndex: 148670 entries, 0 to 148669\n",
      "Data columns (total 34 columns):\n",
      " #   Column                     Non-Null Count   Dtype  \n",
      "---  ------                     --------------   -----  \n",
      " 0   ID                         148670 non-null  int64  \n",
      " 1   year                       148670 non-null  int64  \n",
      " 2   loan_limit                 145326 non-null  object \n",
      " 3   Gender                     148670 non-null  object \n",
      " 4   approv_in_adv              147762 non-null  object \n",
      " 5   loan_type                  148670 non-null  object \n",
      " 6   loan_purpose               148536 non-null  object \n",
      " 7   Credit_Worthiness          148670 non-null  object \n",
      " 8   open_credit                148670 non-null  object \n",
      " 9   business_or_commercial     148670 non-null  object \n",
      " 10  loan_amount                148670 non-null  int64  \n",
      " 11  rate_of_interest           112231 non-null  float64\n",
      " 12  Interest_rate_spread       112031 non-null  float64\n",
      " 13  Upfront_charges            109028 non-null  float64\n",
      " 14  term                       148629 non-null  float64\n",
      " 15  Neg_ammortization          148549 non-null  object \n",
      " 16  interest_only              148670 non-null  object \n",
      " 17  lump_sum_payment           148670 non-null  object \n",
      " 18  property_value             133572 non-null  float64\n",
      " 19  construction_type          148670 non-null  object \n",
      " 20  occupancy_type             148670 non-null  object \n",
      " 21  Secured_by                 148670 non-null  object \n",
      " 22  total_units                148670 non-null  object \n",
      " 23  income                     139520 non-null  float64\n",
      " 24  credit_type                148670 non-null  object \n",
      " 25  Credit_Score               148670 non-null  int64  \n",
      " 26  co-applicant_credit_type   148670 non-null  object \n",
      " 27  age                        148470 non-null  object \n",
      " 28  submission_of_application  148470 non-null  object \n",
      " 29  LTV                        133572 non-null  float64\n",
      " 30  Region                     148670 non-null  object \n",
      " 31  Security_Type              148670 non-null  object \n",
      " 32  Status                     148670 non-null  int64  \n",
      " 33  dtir1                      124549 non-null  float64\n",
      "dtypes: float64(8), int64(5), object(21)\n",
      "memory usage: 38.6+ MB\n"
     ]
    }
   ],
   "source": [
    "df1.info()"
   ]
  },
  {
   "cell_type": "code",
   "execution_count": 7,
   "id": "f09e6b40",
   "metadata": {},
   "outputs": [
    {
     "name": "stdout",
     "output_type": "stream",
     "text": [
      "<class 'pandas.core.frame.DataFrame'>\n",
      "RangeIndex: 63717 entries, 0 to 63716\n",
      "Data columns (total 33 columns):\n",
      " #   Column                     Non-Null Count  Dtype  \n",
      "---  ------                     --------------  -----  \n",
      " 0   ID                         63717 non-null  int64  \n",
      " 1   year                       63717 non-null  int64  \n",
      " 2   loan_limit                 62293 non-null  object \n",
      " 3   Gender                     63717 non-null  object \n",
      " 4   approv_in_adv              63301 non-null  object \n",
      " 5   loan_type                  63717 non-null  object \n",
      " 6   loan_purpose               63659 non-null  object \n",
      " 7   Credit_Worthiness          63717 non-null  object \n",
      " 8   open_credit                63717 non-null  object \n",
      " 9   business_or_commercial     63717 non-null  object \n",
      " 10  loan_amount                63717 non-null  int64  \n",
      " 11  rate_of_interest           48144 non-null  float64\n",
      " 12  Interest_rate_spread       48055 non-null  float64\n",
      " 13  Upfront_charges            46750 non-null  float64\n",
      " 14  term                       63703 non-null  float64\n",
      " 15  Neg_ammortization          63679 non-null  object \n",
      " 16  interest_only              63717 non-null  object \n",
      " 17  lump_sum_payment           63717 non-null  object \n",
      " 18  property_value             57393 non-null  float64\n",
      " 19  construction_type          63717 non-null  object \n",
      " 20  occupancy_type             63717 non-null  object \n",
      " 21  Secured_by                 63717 non-null  object \n",
      " 22  total_units                63717 non-null  object \n",
      " 23  income                     59828 non-null  float64\n",
      " 24  credit_type                63717 non-null  object \n",
      " 25  Credit_Score               63717 non-null  int64  \n",
      " 26  co-applicant_credit_type   63717 non-null  object \n",
      " 27  age                        63628 non-null  object \n",
      " 28  submission_of_application  63628 non-null  object \n",
      " 29  LTV                        57393 non-null  float64\n",
      " 30  Region                     63717 non-null  object \n",
      " 31  Security_Type              63717 non-null  object \n",
      " 32  dtir1                      53564 non-null  float64\n",
      "dtypes: float64(8), int64(4), object(21)\n",
      "memory usage: 16.0+ MB\n"
     ]
    }
   ],
   "source": [
    "df2.info()"
   ]
  },
  {
   "cell_type": "code",
   "execution_count": 8,
   "id": "7caef9e8",
   "metadata": {},
   "outputs": [
    {
     "data": {
      "text/plain": [
       "<bound method NDFrame._add_numeric_operations.<locals>.any of ID                               0\n",
       "year                             0\n",
       "loan_limit                    3344\n",
       "Gender                           0\n",
       "approv_in_adv                  908\n",
       "loan_type                        0\n",
       "loan_purpose                   134\n",
       "Credit_Worthiness                0\n",
       "open_credit                      0\n",
       "business_or_commercial           0\n",
       "loan_amount                      0\n",
       "rate_of_interest             36439\n",
       "Interest_rate_spread         36639\n",
       "Upfront_charges              39642\n",
       "term                            41\n",
       "Neg_ammortization              121\n",
       "interest_only                    0\n",
       "lump_sum_payment                 0\n",
       "property_value               15098\n",
       "construction_type                0\n",
       "occupancy_type                   0\n",
       "Secured_by                       0\n",
       "total_units                      0\n",
       "income                        9150\n",
       "credit_type                      0\n",
       "Credit_Score                     0\n",
       "co-applicant_credit_type         0\n",
       "age                            200\n",
       "submission_of_application      200\n",
       "LTV                          15098\n",
       "Region                           0\n",
       "Security_Type                    0\n",
       "Status                           0\n",
       "dtir1                        24121\n",
       "dtype: int64>"
      ]
     },
     "execution_count": 8,
     "metadata": {},
     "output_type": "execute_result"
    }
   ],
   "source": [
    "df1.isnull().sum().any"
   ]
  },
  {
   "cell_type": "code",
   "execution_count": 9,
   "id": "297c307b",
   "metadata": {},
   "outputs": [
    {
     "data": {
      "text/plain": [
       "<bound method NDFrame._add_numeric_operations.<locals>.any of ID                               0\n",
       "year                             0\n",
       "loan_limit                    1424\n",
       "Gender                           0\n",
       "approv_in_adv                  416\n",
       "loan_type                        0\n",
       "loan_purpose                    58\n",
       "Credit_Worthiness                0\n",
       "open_credit                      0\n",
       "business_or_commercial           0\n",
       "loan_amount                      0\n",
       "rate_of_interest             15573\n",
       "Interest_rate_spread         15662\n",
       "Upfront_charges              16967\n",
       "term                            14\n",
       "Neg_ammortization               38\n",
       "interest_only                    0\n",
       "lump_sum_payment                 0\n",
       "property_value                6324\n",
       "construction_type                0\n",
       "occupancy_type                   0\n",
       "Secured_by                       0\n",
       "total_units                      0\n",
       "income                        3889\n",
       "credit_type                      0\n",
       "Credit_Score                     0\n",
       "co-applicant_credit_type         0\n",
       "age                             89\n",
       "submission_of_application       89\n",
       "LTV                           6324\n",
       "Region                           0\n",
       "Security_Type                    0\n",
       "dtir1                        10153\n",
       "dtype: int64>"
      ]
     },
     "execution_count": 9,
     "metadata": {},
     "output_type": "execute_result"
    }
   ],
   "source": [
    "df2.isnull().sum().any"
   ]
  },
  {
   "cell_type": "code",
   "execution_count": 10,
   "id": "60f4340a",
   "metadata": {},
   "outputs": [
    {
     "data": {
      "text/plain": [
       "Index(['ID', 'year', 'loan_limit', 'Gender', 'approv_in_adv', 'loan_type',\n",
       "       'loan_purpose', 'Credit_Worthiness', 'open_credit',\n",
       "       'business_or_commercial', 'loan_amount', 'rate_of_interest',\n",
       "       'Interest_rate_spread', 'Upfront_charges', 'term', 'Neg_ammortization',\n",
       "       'interest_only', 'lump_sum_payment', 'property_value',\n",
       "       'construction_type', 'occupancy_type', 'Secured_by', 'total_units',\n",
       "       'income', 'credit_type', 'Credit_Score', 'co-applicant_credit_type',\n",
       "       'age', 'submission_of_application', 'LTV', 'Region', 'Security_Type',\n",
       "       'Status', 'dtir1'],\n",
       "      dtype='object')"
      ]
     },
     "execution_count": 10,
     "metadata": {},
     "output_type": "execute_result"
    }
   ],
   "source": [
    "df1.columns"
   ]
  },
  {
   "cell_type": "code",
   "execution_count": 11,
   "id": "c0179581",
   "metadata": {},
   "outputs": [
    {
     "data": {
      "text/plain": [
       "object     21\n",
       "float64     8\n",
       "int64       5\n",
       "dtype: int64"
      ]
     },
     "execution_count": 11,
     "metadata": {},
     "output_type": "execute_result"
    }
   ],
   "source": [
    "df1.dtypes.value_counts()"
   ]
  },
  {
   "cell_type": "code",
   "execution_count": 12,
   "id": "d654a5ee",
   "metadata": {},
   "outputs": [
    {
     "data": {
      "text/plain": [
       "object     21\n",
       "float64     8\n",
       "int64       4\n",
       "dtype: int64"
      ]
     },
     "execution_count": 12,
     "metadata": {},
     "output_type": "execute_result"
    }
   ],
   "source": [
    "df2.dtypes.value_counts()"
   ]
  },
  {
   "cell_type": "code",
   "execution_count": 13,
   "id": "24ed7be1",
   "metadata": {},
   "outputs": [
    {
     "name": "stdout",
     "output_type": "stream",
     "text": [
      "4000.563806015231 1608294.0466923078 41071.68583541077 93656.89112388693\n"
     ]
    },
    {
     "data": {
      "text/html": [
       "<div>\n",
       "<style scoped>\n",
       "    .dataframe tbody tr th:only-of-type {\n",
       "        vertical-align: middle;\n",
       "    }\n",
       "\n",
       "    .dataframe tbody tr th {\n",
       "        vertical-align: top;\n",
       "    }\n",
       "\n",
       "    .dataframe thead th {\n",
       "        text-align: right;\n",
       "    }\n",
       "</style>\n",
       "<table border=\"1\" class=\"dataframe\">\n",
       "  <thead>\n",
       "    <tr style=\"text-align: right;\">\n",
       "      <th></th>\n",
       "      <th>ID</th>\n",
       "      <th>year</th>\n",
       "      <th>loan_amount</th>\n",
       "      <th>rate_of_interest</th>\n",
       "      <th>Interest_rate_spread</th>\n",
       "      <th>Upfront_charges</th>\n",
       "      <th>term</th>\n",
       "      <th>property_value</th>\n",
       "      <th>income</th>\n",
       "      <th>Credit_Score</th>\n",
       "    </tr>\n",
       "  </thead>\n",
       "  <tbody>\n",
       "    <tr>\n",
       "      <th>count</th>\n",
       "      <td>148670.000000</td>\n",
       "      <td>148670.0</td>\n",
       "      <td>1.486700e+05</td>\n",
       "      <td>112231.000000</td>\n",
       "      <td>112031.000000</td>\n",
       "      <td>109028.000000</td>\n",
       "      <td>148629.000000</td>\n",
       "      <td>1.335720e+05</td>\n",
       "      <td>139520.000000</td>\n",
       "      <td>148670.000000</td>\n",
       "    </tr>\n",
       "    <tr>\n",
       "      <th>mean</th>\n",
       "      <td>99224.500000</td>\n",
       "      <td>2019.0</td>\n",
       "      <td>3.311177e+05</td>\n",
       "      <td>4.045476</td>\n",
       "      <td>0.441656</td>\n",
       "      <td>3224.996127</td>\n",
       "      <td>335.136582</td>\n",
       "      <td>4.978935e+05</td>\n",
       "      <td>6957.338876</td>\n",
       "      <td>699.789103</td>\n",
       "    </tr>\n",
       "    <tr>\n",
       "      <th>std</th>\n",
       "      <td>42917.476598</td>\n",
       "      <td>0.0</td>\n",
       "      <td>1.839093e+05</td>\n",
       "      <td>0.561391</td>\n",
       "      <td>0.513043</td>\n",
       "      <td>3251.121510</td>\n",
       "      <td>58.409084</td>\n",
       "      <td>3.599353e+05</td>\n",
       "      <td>6496.586382</td>\n",
       "      <td>115.875857</td>\n",
       "    </tr>\n",
       "    <tr>\n",
       "      <th>min</th>\n",
       "      <td>24890.000000</td>\n",
       "      <td>2019.0</td>\n",
       "      <td>1.650000e+04</td>\n",
       "      <td>0.000000</td>\n",
       "      <td>-3.638000</td>\n",
       "      <td>0.000000</td>\n",
       "      <td>96.000000</td>\n",
       "      <td>8.000000e+03</td>\n",
       "      <td>0.000000</td>\n",
       "      <td>500.000000</td>\n",
       "    </tr>\n",
       "    <tr>\n",
       "      <th>25%</th>\n",
       "      <td>62057.250000</td>\n",
       "      <td>2019.0</td>\n",
       "      <td>1.965000e+05</td>\n",
       "      <td>3.625000</td>\n",
       "      <td>0.076000</td>\n",
       "      <td>581.490000</td>\n",
       "      <td>360.000000</td>\n",
       "      <td>2.680000e+05</td>\n",
       "      <td>3720.000000</td>\n",
       "      <td>599.000000</td>\n",
       "    </tr>\n",
       "    <tr>\n",
       "      <th>50%</th>\n",
       "      <td>99224.500000</td>\n",
       "      <td>2019.0</td>\n",
       "      <td>2.965000e+05</td>\n",
       "      <td>3.990000</td>\n",
       "      <td>0.390400</td>\n",
       "      <td>2596.450000</td>\n",
       "      <td>360.000000</td>\n",
       "      <td>4.180000e+05</td>\n",
       "      <td>5760.000000</td>\n",
       "      <td>699.000000</td>\n",
       "    </tr>\n",
       "    <tr>\n",
       "      <th>75%</th>\n",
       "      <td>136391.750000</td>\n",
       "      <td>2019.0</td>\n",
       "      <td>4.365000e+05</td>\n",
       "      <td>4.375000</td>\n",
       "      <td>0.775400</td>\n",
       "      <td>4812.500000</td>\n",
       "      <td>360.000000</td>\n",
       "      <td>6.280000e+05</td>\n",
       "      <td>8520.000000</td>\n",
       "      <td>800.000000</td>\n",
       "    </tr>\n",
       "    <tr>\n",
       "      <th>max</th>\n",
       "      <td>173559.000000</td>\n",
       "      <td>2019.0</td>\n",
       "      <td>3.576500e+06</td>\n",
       "      <td>8.000000</td>\n",
       "      <td>3.357000</td>\n",
       "      <td>60000.000000</td>\n",
       "      <td>360.000000</td>\n",
       "      <td>1.650800e+07</td>\n",
       "      <td>578580.000000</td>\n",
       "      <td>900.000000</td>\n",
       "    </tr>\n",
       "  </tbody>\n",
       "</table>\n",
       "</div>"
      ],
      "text/plain": [
       "                  ID      year   loan_amount  rate_of_interest  \\\n",
       "count  148670.000000  148670.0  1.486700e+05     112231.000000   \n",
       "mean    99224.500000    2019.0  3.311177e+05          4.045476   \n",
       "std     42917.476598       0.0  1.839093e+05          0.561391   \n",
       "min     24890.000000    2019.0  1.650000e+04          0.000000   \n",
       "25%     62057.250000    2019.0  1.965000e+05          3.625000   \n",
       "50%     99224.500000    2019.0  2.965000e+05          3.990000   \n",
       "75%    136391.750000    2019.0  4.365000e+05          4.375000   \n",
       "max    173559.000000    2019.0  3.576500e+06          8.000000   \n",
       "\n",
       "       Interest_rate_spread  Upfront_charges           term  property_value  \\\n",
       "count         112031.000000    109028.000000  148629.000000    1.335720e+05   \n",
       "mean               0.441656      3224.996127     335.136582    4.978935e+05   \n",
       "std                0.513043      3251.121510      58.409084    3.599353e+05   \n",
       "min               -3.638000         0.000000      96.000000    8.000000e+03   \n",
       "25%                0.076000       581.490000     360.000000    2.680000e+05   \n",
       "50%                0.390400      2596.450000     360.000000    4.180000e+05   \n",
       "75%                0.775400      4812.500000     360.000000    6.280000e+05   \n",
       "max                3.357000     60000.000000     360.000000    1.650800e+07   \n",
       "\n",
       "              income   Credit_Score  \n",
       "count  139520.000000  148670.000000  \n",
       "mean     6957.338876     699.789103  \n",
       "std      6496.586382     115.875857  \n",
       "min         0.000000     500.000000  \n",
       "25%      3720.000000     599.000000  \n",
       "50%      5760.000000     699.000000  \n",
       "75%      8520.000000     800.000000  \n",
       "max    578580.000000     900.000000  "
      ]
     },
     "execution_count": 13,
     "metadata": {},
     "output_type": "execute_result"
    }
   ],
   "source": [
    "# Statistical information about numerical features\n",
    "num_stat = df1.describe().T\n",
    "print(num_stat['min'].mean(), num_stat['max'].mean(), num_stat['25%'].mean(),\n",
    "      num_stat['75%'].mean())\n",
    "num_stat.head(10).T"
   ]
  },
  {
   "cell_type": "code",
   "execution_count": 14,
   "id": "b749e70a",
   "metadata": {},
   "outputs": [
    {
     "data": {
      "text/plain": [
       "[]"
      ]
     },
     "execution_count": 14,
     "metadata": {},
     "output_type": "execute_result"
    }
   ],
   "source": [
    "num_stat.index[num_stat['count'] == 0].tolist()"
   ]
  },
  {
   "cell_type": "code",
   "execution_count": 15,
   "id": "d15b048c",
   "metadata": {},
   "outputs": [
    {
     "data": {
      "text/plain": [
       "['rate_of_interest',\n",
       " 'Interest_rate_spread',\n",
       " 'Upfront_charges',\n",
       " 'term',\n",
       " 'property_value',\n",
       " 'income',\n",
       " 'LTV',\n",
       " 'dtir1']"
      ]
     },
     "execution_count": 15,
     "metadata": {},
     "output_type": "execute_result"
    }
   ],
   "source": [
    "# Check columns with missing values\n",
    "\n",
    "num_stat.index[(df1.shape[0] - num_stat['count']) > 0].tolist()"
   ]
  },
  {
   "cell_type": "code",
   "execution_count": 16,
   "id": "bf0be464",
   "metadata": {},
   "outputs": [
    {
     "name": "stdout",
     "output_type": "stream",
     "text": [
      "16723.2225194475 1520828.1351083333 55111.0925972225 108536.63207587751\n"
     ]
    },
    {
     "data": {
      "text/html": [
       "<div>\n",
       "<style scoped>\n",
       "    .dataframe tbody tr th:only-of-type {\n",
       "        vertical-align: middle;\n",
       "    }\n",
       "\n",
       "    .dataframe tbody tr th {\n",
       "        vertical-align: top;\n",
       "    }\n",
       "\n",
       "    .dataframe thead th {\n",
       "        text-align: right;\n",
       "    }\n",
       "</style>\n",
       "<table border=\"1\" class=\"dataframe\">\n",
       "  <thead>\n",
       "    <tr style=\"text-align: right;\">\n",
       "      <th></th>\n",
       "      <th>ID</th>\n",
       "      <th>year</th>\n",
       "      <th>loan_amount</th>\n",
       "      <th>rate_of_interest</th>\n",
       "      <th>Interest_rate_spread</th>\n",
       "      <th>Upfront_charges</th>\n",
       "      <th>term</th>\n",
       "      <th>property_value</th>\n",
       "      <th>income</th>\n",
       "      <th>Credit_Score</th>\n",
       "    </tr>\n",
       "  </thead>\n",
       "  <tbody>\n",
       "    <tr>\n",
       "      <th>count</th>\n",
       "      <td>63717.000000</td>\n",
       "      <td>63717.0</td>\n",
       "      <td>6.371700e+04</td>\n",
       "      <td>48144.000000</td>\n",
       "      <td>48055.000000</td>\n",
       "      <td>46750.000000</td>\n",
       "      <td>63703.000000</td>\n",
       "      <td>5.739300e+04</td>\n",
       "      <td>59828.000000</td>\n",
       "      <td>63717.000000</td>\n",
       "    </tr>\n",
       "    <tr>\n",
       "      <th>mean</th>\n",
       "      <td>205418.000000</td>\n",
       "      <td>2019.0</td>\n",
       "      <td>3.319441e+05</td>\n",
       "      <td>4.043791</td>\n",
       "      <td>0.439476</td>\n",
       "      <td>3183.159632</td>\n",
       "      <td>335.293471</td>\n",
       "      <td>5.011452e+05</td>\n",
       "      <td>6910.610417</td>\n",
       "      <td>700.658867</td>\n",
       "    </tr>\n",
       "    <tr>\n",
       "      <th>std</th>\n",
       "      <td>18393.657888</td>\n",
       "      <td>0.0</td>\n",
       "      <td>1.860108e+05</td>\n",
       "      <td>0.560663</td>\n",
       "      <td>0.513580</td>\n",
       "      <td>3212.922148</td>\n",
       "      <td>58.408498</td>\n",
       "      <td>3.705137e+05</td>\n",
       "      <td>5744.295093</td>\n",
       "      <td>116.085091</td>\n",
       "    </tr>\n",
       "    <tr>\n",
       "      <th>min</th>\n",
       "      <td>173560.000000</td>\n",
       "      <td>2019.0</td>\n",
       "      <td>1.650000e+04</td>\n",
       "      <td>0.000000</td>\n",
       "      <td>-3.688000</td>\n",
       "      <td>0.000000</td>\n",
       "      <td>96.000000</td>\n",
       "      <td>8.000000e+03</td>\n",
       "      <td>0.000000</td>\n",
       "      <td>500.000000</td>\n",
       "    </tr>\n",
       "    <tr>\n",
       "      <th>25%</th>\n",
       "      <td>189489.000000</td>\n",
       "      <td>2019.0</td>\n",
       "      <td>1.965000e+05</td>\n",
       "      <td>3.625000</td>\n",
       "      <td>0.069500</td>\n",
       "      <td>550.000000</td>\n",
       "      <td>360.000000</td>\n",
       "      <td>2.680000e+05</td>\n",
       "      <td>3720.000000</td>\n",
       "      <td>600.000000</td>\n",
       "    </tr>\n",
       "    <tr>\n",
       "      <th>50%</th>\n",
       "      <td>205418.000000</td>\n",
       "      <td>2019.0</td>\n",
       "      <td>2.965000e+05</td>\n",
       "      <td>3.990000</td>\n",
       "      <td>0.386300</td>\n",
       "      <td>2541.430000</td>\n",
       "      <td>360.000000</td>\n",
       "      <td>4.180000e+05</td>\n",
       "      <td>5700.000000</td>\n",
       "      <td>700.000000</td>\n",
       "    </tr>\n",
       "    <tr>\n",
       "      <th>75%</th>\n",
       "      <td>221347.000000</td>\n",
       "      <td>2019.0</td>\n",
       "      <td>4.365000e+05</td>\n",
       "      <td>4.375000</td>\n",
       "      <td>0.775700</td>\n",
       "      <td>4756.250000</td>\n",
       "      <td>360.000000</td>\n",
       "      <td>6.280000e+05</td>\n",
       "      <td>8520.000000</td>\n",
       "      <td>801.000000</td>\n",
       "    </tr>\n",
       "    <tr>\n",
       "      <th>max</th>\n",
       "      <td>237276.000000</td>\n",
       "      <td>2019.0</td>\n",
       "      <td>3.566500e+06</td>\n",
       "      <td>7.875000</td>\n",
       "      <td>2.986300</td>\n",
       "      <td>33469.510000</td>\n",
       "      <td>360.000000</td>\n",
       "      <td>1.415800e+07</td>\n",
       "      <td>242760.000000</td>\n",
       "      <td>900.000000</td>\n",
       "    </tr>\n",
       "  </tbody>\n",
       "</table>\n",
       "</div>"
      ],
      "text/plain": [
       "                  ID     year   loan_amount  rate_of_interest  \\\n",
       "count   63717.000000  63717.0  6.371700e+04      48144.000000   \n",
       "mean   205418.000000   2019.0  3.319441e+05          4.043791   \n",
       "std     18393.657888      0.0  1.860108e+05          0.560663   \n",
       "min    173560.000000   2019.0  1.650000e+04          0.000000   \n",
       "25%    189489.000000   2019.0  1.965000e+05          3.625000   \n",
       "50%    205418.000000   2019.0  2.965000e+05          3.990000   \n",
       "75%    221347.000000   2019.0  4.365000e+05          4.375000   \n",
       "max    237276.000000   2019.0  3.566500e+06          7.875000   \n",
       "\n",
       "       Interest_rate_spread  Upfront_charges          term  property_value  \\\n",
       "count          48055.000000     46750.000000  63703.000000    5.739300e+04   \n",
       "mean               0.439476      3183.159632    335.293471    5.011452e+05   \n",
       "std                0.513580      3212.922148     58.408498    3.705137e+05   \n",
       "min               -3.688000         0.000000     96.000000    8.000000e+03   \n",
       "25%                0.069500       550.000000    360.000000    2.680000e+05   \n",
       "50%                0.386300      2541.430000    360.000000    4.180000e+05   \n",
       "75%                0.775700      4756.250000    360.000000    6.280000e+05   \n",
       "max                2.986300     33469.510000    360.000000    1.415800e+07   \n",
       "\n",
       "              income  Credit_Score  \n",
       "count   59828.000000  63717.000000  \n",
       "mean     6910.610417    700.658867  \n",
       "std      5744.295093    116.085091  \n",
       "min         0.000000    500.000000  \n",
       "25%      3720.000000    600.000000  \n",
       "50%      5700.000000    700.000000  \n",
       "75%      8520.000000    801.000000  \n",
       "max    242760.000000    900.000000  "
      ]
     },
     "execution_count": 16,
     "metadata": {},
     "output_type": "execute_result"
    }
   ],
   "source": [
    "num_stat_2 = df2.describe().T\n",
    "print(num_stat_2['min'].mean(), num_stat_2['max'].mean(), num_stat_2['25%'].mean(),\n",
    "      num_stat_2['75%'].mean())\n",
    "num_stat_2.head(10).T"
   ]
  },
  {
   "cell_type": "code",
   "execution_count": 17,
   "id": "6d039e93",
   "metadata": {},
   "outputs": [
    {
     "data": {
      "text/plain": [
       "[]"
      ]
     },
     "execution_count": 17,
     "metadata": {},
     "output_type": "execute_result"
    }
   ],
   "source": [
    "num_stat_2.index[num_stat_2['count'] == 0].tolist()"
   ]
  },
  {
   "cell_type": "code",
   "execution_count": 18,
   "id": "98e278c1",
   "metadata": {},
   "outputs": [
    {
     "data": {
      "text/plain": [
       "['rate_of_interest',\n",
       " 'Interest_rate_spread',\n",
       " 'Upfront_charges',\n",
       " 'term',\n",
       " 'property_value',\n",
       " 'income',\n",
       " 'LTV',\n",
       " 'dtir1']"
      ]
     },
     "execution_count": 18,
     "metadata": {},
     "output_type": "execute_result"
    }
   ],
   "source": [
    "num_stat_2.index[(df2.shape[0] - num_stat_2['count']) > 0].tolist()"
   ]
  },
  {
   "cell_type": "code",
   "execution_count": 19,
   "id": "34e6e4b7",
   "metadata": {},
   "outputs": [
    {
     "data": {
      "image/png": "[encoded data removed]",
      "text/plain": [
       "<Figure size 432x288 with 1 Axes>"
      ]
     },
     "metadata": {
      "needs_background": "light"
     },
     "output_type": "display_data"
    }
   ],
   "source": [
    "df1.boxplot()\n",
    "plt.xticks(rotation=90)\n",
    "plt.show()"
   ]
  },
  {
   "cell_type": "markdown",
   "id": "aae8b79e",
   "metadata": {},
   "source": [
    "From the boxplot we can observe that there are outliers in Property value and loan amount \n",
    "might affect the prediction of target columns which is exited."
   ]
  },
  {
   "cell_type": "code",
   "execution_count": 20,
   "id": "e989f95b",
   "metadata": {},
   "outputs": [
    {
     "data": {
      "text/plain": [
       "{'whiskers': [<matplotlib.lines.Line2D at 0x1b58e5ee190>,\n",
       "  <matplotlib.lines.Line2D at 0x1b58e5ee4f0>],\n",
       " 'caps': [<matplotlib.lines.Line2D at 0x1b58e5ee850>,\n",
       "  <matplotlib.lines.Line2D at 0x1b58e5eebb0>],\n",
       " 'boxes': [<matplotlib.lines.Line2D at 0x1b590c6adf0>],\n",
       " 'medians': [<matplotlib.lines.Line2D at 0x1b58e5eef10>],\n",
       " 'fliers': [<matplotlib.lines.Line2D at 0x1b58e5b02b0>],\n",
       " 'means': []}"
      ]
     },
     "execution_count": 20,
     "metadata": {},
     "output_type": "execute_result"
    },
    {
     "data": {
      "image/png": "[encoded data removed]",
      "text/plain": [
       "<Figure size 432x288 with 1 Axes>"
      ]
     },
     "metadata": {
      "needs_background": "light"
     },
     "output_type": "display_data"
    }
   ],
   "source": [
    "plt.boxplot(df1['loan_amount'])"
   ]
  },
  {
   "cell_type": "code",
   "execution_count": 21,
   "id": "11c07195",
   "metadata": {},
   "outputs": [
    {
     "data": {
      "image/png": "[encoded data removed]",
      "text/plain": [
       "<Figure size 432x288 with 1 Axes>"
      ]
     },
     "metadata": {
      "needs_background": "light"
     },
     "output_type": "display_data"
    }
   ],
   "source": [
    "plt.hist(df1[\"Status\"])\n",
    "plt.xlabel(\"status\")\n",
    "plt.ylabel(\"Frequency\")\n",
    "plt.title(\"Histogram for status\")\n",
    "plt.show()"
   ]
  },
  {
   "cell_type": "markdown",
   "id": "84e375ab",
   "metadata": {},
   "source": [
    "From above plot we can observe that the target variable Status is not evenly distributed. As the count for 0 class is much more than class 1."
   ]
  },
  {
   "cell_type": "code",
   "execution_count": 22,
   "id": "5fff91e7",
   "metadata": {},
   "outputs": [],
   "source": [
    "# Creating Dummies\n",
    "df_categ= df1.select_dtypes(exclude=\"number\")\n",
    "#df_categ.drop(\"Status\",axis=1,inplace= True)\n",
    "df_dummy= pd.get_dummies(df_categ,drop_first= True).reset_index(drop=True)\n"
   ]
  },
  {
   "cell_type": "code",
   "execution_count": 23,
   "id": "3d17337d",
   "metadata": {},
   "outputs": [
    {
     "data": {
      "text/plain": [
       "Index(['loan_limit_ncf', 'Gender_Joint', 'Gender_Male',\n",
       "       'Gender_Sex Not Available', 'approv_in_adv_pre', 'loan_type_type2',\n",
       "       'loan_type_type3', 'loan_purpose_p2', 'loan_purpose_p3',\n",
       "       'loan_purpose_p4', 'Credit_Worthiness_l2', 'open_credit_opc',\n",
       "       'business_or_commercial_nob/c', 'Neg_ammortization_not_neg',\n",
       "       'interest_only_not_int', 'lump_sum_payment_not_lpsm',\n",
       "       'construction_type_sb', 'occupancy_type_pr', 'occupancy_type_sr',\n",
       "       'Secured_by_land', 'total_units_2U', 'total_units_3U', 'total_units_4U',\n",
       "       'credit_type_CRIF', 'credit_type_EQUI', 'credit_type_EXP',\n",
       "       'co-applicant_credit_type_EXP', 'age_35-44', 'age_45-54', 'age_55-64',\n",
       "       'age_65-74', 'age_<25', 'age_>74', 'submission_of_application_to_inst',\n",
       "       'Region_North-East', 'Region_central', 'Region_south',\n",
       "       'Security_Type_direct'],\n",
       "      dtype='object')"
      ]
     },
     "execution_count": 23,
     "metadata": {},
     "output_type": "execute_result"
    }
   ],
   "source": [
    "df_dummy.columns"
   ]
  },
  {
   "cell_type": "code",
   "execution_count": 24,
   "id": "0b8b2b13",
   "metadata": {},
   "outputs": [],
   "source": [
    "# Scaling the Numerical Features:\n",
    "from sklearn.preprocessing import StandardScaler\n",
    "df_nume= df1.select_dtypes(include=\"number\")\n",
    "X_scaler= StandardScaler()\n",
    "num_scaled= X_scaler.fit_transform(df_nume)\n",
    "df_num_scaled= pd.DataFrame(num_scaled,columns= df_nume.columns).reset_index(drop=True)\n",
    "#Status= pd.DataFrame(df1[\"Status\"]).reset_index(drop=True)"
   ]
  },
  {
   "cell_type": "code",
   "execution_count": 25,
   "id": "dba765d6",
   "metadata": {},
   "outputs": [
    {
     "data": {
      "text/plain": [
       "(148670, 51)"
      ]
     },
     "execution_count": 25,
     "metadata": {},
     "output_type": "execute_result"
    }
   ],
   "source": [
    "df_final= pd.concat([df_num_scaled,df_dummy],axis=1)\n",
    "df_final.shape"
   ]
  },
  {
   "cell_type": "code",
   "execution_count": 26,
   "id": "72ced861",
   "metadata": {},
   "outputs": [
    {
     "name": "stdout",
     "output_type": "stream",
     "text": [
      "<class 'pandas.core.frame.DataFrame'>\n",
      "RangeIndex: 148670 entries, 0 to 148669\n",
      "Data columns (total 51 columns):\n",
      " #   Column                             Non-Null Count   Dtype  \n",
      "---  ------                             --------------   -----  \n",
      " 0   ID                                 148670 non-null  float64\n",
      " 1   year                               148670 non-null  float64\n",
      " 2   loan_amount                        148670 non-null  float64\n",
      " 3   rate_of_interest                   112231 non-null  float64\n",
      " 4   Interest_rate_spread               112031 non-null  float64\n",
      " 5   Upfront_charges                    109028 non-null  float64\n",
      " 6   term                               148629 non-null  float64\n",
      " 7   property_value                     133572 non-null  float64\n",
      " 8   income                             139520 non-null  float64\n",
      " 9   Credit_Score                       148670 non-null  float64\n",
      " 10  LTV                                133572 non-null  float64\n",
      " 11  Status                             148670 non-null  float64\n",
      " 12  dtir1                              124549 non-null  float64\n",
      " 13  loan_limit_ncf                     148670 non-null  uint8  \n",
      " 14  Gender_Joint                       148670 non-null  uint8  \n",
      " 15  Gender_Male                        148670 non-null  uint8  \n",
      " 16  Gender_Sex Not Available           148670 non-null  uint8  \n",
      " 17  approv_in_adv_pre                  148670 non-null  uint8  \n",
      " 18  loan_type_type2                    148670 non-null  uint8  \n",
      " 19  loan_type_type3                    148670 non-null  uint8  \n",
      " 20  loan_purpose_p2                    148670 non-null  uint8  \n",
      " 21  loan_purpose_p3                    148670 non-null  uint8  \n",
      " 22  loan_purpose_p4                    148670 non-null  uint8  \n",
      " 23  Credit_Worthiness_l2               148670 non-null  uint8  \n",
      " 24  open_credit_opc                    148670 non-null  uint8  \n",
      " 25  business_or_commercial_nob/c       148670 non-null  uint8  \n",
      " 26  Neg_ammortization_not_neg          148670 non-null  uint8  \n",
      " 27  interest_only_not_int              148670 non-null  uint8  \n",
      " 28  lump_sum_payment_not_lpsm          148670 non-null  uint8  \n",
      " 29  construction_type_sb               148670 non-null  uint8  \n",
      " 30  occupancy_type_pr                  148670 non-null  uint8  \n",
      " 31  occupancy_type_sr                  148670 non-null  uint8  \n",
      " 32  Secured_by_land                    148670 non-null  uint8  \n",
      " 33  total_units_2U                     148670 non-null  uint8  \n",
      " 34  total_units_3U                     148670 non-null  uint8  \n",
      " 35  total_units_4U                     148670 non-null  uint8  \n",
      " 36  credit_type_CRIF                   148670 non-null  uint8  \n",
      " 37  credit_type_EQUI                   148670 non-null  uint8  \n",
      " 38  credit_type_EXP                    148670 non-null  uint8  \n",
      " 39  co-applicant_credit_type_EXP       148670 non-null  uint8  \n",
      " 40  age_35-44                          148670 non-null  uint8  \n",
      " 41  age_45-54                          148670 non-null  uint8  \n",
      " 42  age_55-64                          148670 non-null  uint8  \n",
      " 43  age_65-74                          148670 non-null  uint8  \n",
      " 44  age_<25                            148670 non-null  uint8  \n",
      " 45  age_>74                            148670 non-null  uint8  \n",
      " 46  submission_of_application_to_inst  148670 non-null  uint8  \n",
      " 47  Region_North-East                  148670 non-null  uint8  \n",
      " 48  Region_central                     148670 non-null  uint8  \n",
      " 49  Region_south                       148670 non-null  uint8  \n",
      " 50  Security_Type_direct               148670 non-null  uint8  \n",
      "dtypes: float64(13), uint8(38)\n",
      "memory usage: 20.1 MB\n"
     ]
    }
   ],
   "source": [
    "df_final.info()"
   ]
  },
  {
   "cell_type": "code",
   "execution_count": 27,
   "id": "41460c52",
   "metadata": {},
   "outputs": [
    {
     "data": {
      "text/plain": [
       "<AxesSubplot:xlabel='Gender', ylabel='Status'>"
      ]
     },
     "execution_count": 27,
     "metadata": {},
     "output_type": "execute_result"
    },
    {
     "data": {
      "image/png": "[encoded data removed]",
      "text/plain": [
       "<Figure size 432x288 with 1 Axes>"
      ]
     },
     "metadata": {
      "needs_background": "light"
     },
     "output_type": "display_data"
    }
   ],
   "source": [
    "sns.barplot(x= df1[\"Gender\"],y= df1[\"Status\"])"
   ]
  },
  {
   "cell_type": "code",
   "execution_count": 28,
   "id": "2c862244",
   "metadata": {},
   "outputs": [
    {
     "data": {
      "text/plain": [
       "Index(['ID', 'year', 'loan_limit', 'Gender', 'approv_in_adv', 'loan_type',\n",
       "       'loan_purpose', 'Credit_Worthiness', 'open_credit',\n",
       "       'business_or_commercial', 'loan_amount', 'rate_of_interest',\n",
       "       'Interest_rate_spread', 'Upfront_charges', 'term', 'Neg_ammortization',\n",
       "       'interest_only', 'lump_sum_payment', 'property_value',\n",
       "       'construction_type', 'occupancy_type', 'Secured_by', 'total_units',\n",
       "       'income', 'credit_type', 'Credit_Score', 'co-applicant_credit_type',\n",
       "       'age', 'submission_of_application', 'LTV', 'Region', 'Security_Type',\n",
       "       'dtir1'],\n",
       "      dtype='object')"
      ]
     },
     "execution_count": 28,
     "metadata": {},
     "output_type": "execute_result"
    }
   ],
   "source": [
    "df2.columns"
   ]
  },
  {
   "cell_type": "code",
   "execution_count": 29,
   "id": "339c5088",
   "metadata": {},
   "outputs": [
    {
     "data": {
      "text/plain": [
       "<AxesSubplot:xlabel='loan_type', ylabel='Status'>"
      ]
     },
     "execution_count": 29,
     "metadata": {},
     "output_type": "execute_result"
    },
    {
     "data": {
      "image/png": "[encoded data removed]",
      "text/plain": [
       "<Figure size 432x288 with 1 Axes>"
      ]
     },
     "metadata": {
      "needs_background": "light"
     },
     "output_type": "display_data"
    }
   ],
   "source": [
    "sns.barplot(x= df1[\"loan_type\"],y= df1[\"Status\"])\n"
   ]
  },
  {
   "cell_type": "code",
   "execution_count": 30,
   "id": "b90acd04",
   "metadata": {},
   "outputs": [
    {
     "data": {
      "text/plain": [
       "<AxesSubplot:xlabel='loan_purpose', ylabel='Status'>"
      ]
     },
     "execution_count": 30,
     "metadata": {},
     "output_type": "execute_result"
    },
    {
     "data": {
      "image/png": "[encoded data removed]",
      "text/plain": [
       "<Figure size 432x288 with 1 Axes>"
      ]
     },
     "metadata": {
      "needs_background": "light"
     },
     "output_type": "display_data"
    }
   ],
   "source": [
    "sns.barplot(x= df1[\"loan_purpose\"],y= df1[\"Status\"])\n"
   ]
  },
  {
   "cell_type": "code",
   "execution_count": 31,
   "id": "823ee3a8",
   "metadata": {},
   "outputs": [
    {
     "data": {
      "text/html": [
       "<div>\n",
       "<style scoped>\n",
       "    .dataframe tbody tr th:only-of-type {\n",
       "        vertical-align: middle;\n",
       "    }\n",
       "\n",
       "    .dataframe tbody tr th {\n",
       "        vertical-align: top;\n",
       "    }\n",
       "\n",
       "    .dataframe thead th {\n",
       "        text-align: right;\n",
       "    }\n",
       "</style>\n",
       "<table border=\"1\" class=\"dataframe\">\n",
       "  <thead>\n",
       "    <tr style=\"text-align: right;\">\n",
       "      <th>Gender</th>\n",
       "      <th>Female</th>\n",
       "      <th>Joint</th>\n",
       "      <th>Male</th>\n",
       "      <th>Sex Not Available</th>\n",
       "    </tr>\n",
       "    <tr>\n",
       "      <th>Status</th>\n",
       "      <th></th>\n",
       "      <th></th>\n",
       "      <th></th>\n",
       "      <th></th>\n",
       "    </tr>\n",
       "  </thead>\n",
       "  <tbody>\n",
       "    <tr>\n",
       "      <th>0</th>\n",
       "      <td>20418</td>\n",
       "      <td>33466</td>\n",
       "      <td>31255</td>\n",
       "      <td>26892</td>\n",
       "    </tr>\n",
       "    <tr>\n",
       "      <th>1</th>\n",
       "      <td>6848</td>\n",
       "      <td>7933</td>\n",
       "      <td>11091</td>\n",
       "      <td>10767</td>\n",
       "    </tr>\n",
       "  </tbody>\n",
       "</table>\n",
       "</div>"
      ],
      "text/plain": [
       "Gender  Female  Joint   Male  Sex Not Available\n",
       "Status                                         \n",
       "0        20418  33466  31255              26892\n",
       "1         6848   7933  11091              10767"
      ]
     },
     "execution_count": 31,
     "metadata": {},
     "output_type": "execute_result"
    }
   ],
   "source": [
    "pd.crosstab(df1[\"Status\"],df1[\"Gender\"])"
   ]
  },
  {
   "cell_type": "code",
   "execution_count": 32,
   "id": "ec0b7bab",
   "metadata": {},
   "outputs": [
    {
     "data": {
      "text/plain": [
       "(4.543776008839991, 5.5255372631523525e-06)"
      ]
     },
     "execution_count": 32,
     "metadata": {},
     "output_type": "execute_result"
    }
   ],
   "source": [
    "from statsmodels.stats.proportion import proportions_ztest\n",
    "x= np.array([11091,6848])\n",
    "n= np.array([31255,20418])\n",
    "m = np.array([7933,10767])\n",
    "o = np.array([33466,26892])\n",
    "proportions_ztest(x,n)"
   ]
  },
  {
   "cell_type": "code",
   "execution_count": 33,
   "id": "5235a6ab",
   "metadata": {},
   "outputs": [
    {
     "data": {
      "text/plain": [
       "(-43.13046220297743, 0.0)"
      ]
     },
     "execution_count": 33,
     "metadata": {},
     "output_type": "execute_result"
    }
   ],
   "source": [
    "proportions_ztest(m,o)"
   ]
  },
  {
   "cell_type": "markdown",
   "id": "198da853",
   "metadata": {},
   "source": [
    "Proportion of males is not same as Proportion of females. Thus we can conclude that Gender is the significant feature in predicting the Target Column."
   ]
  },
  {
   "cell_type": "code",
   "execution_count": 34,
   "id": "ce4071a8",
   "metadata": {},
   "outputs": [
    {
     "data": {
      "text/html": [
       "<div>\n",
       "<style scoped>\n",
       "    .dataframe tbody tr th:only-of-type {\n",
       "        vertical-align: middle;\n",
       "    }\n",
       "\n",
       "    .dataframe tbody tr th {\n",
       "        vertical-align: top;\n",
       "    }\n",
       "\n",
       "    .dataframe thead th {\n",
       "        text-align: right;\n",
       "    }\n",
       "</style>\n",
       "<table border=\"1\" class=\"dataframe\">\n",
       "  <thead>\n",
       "    <tr style=\"text-align: right;\">\n",
       "      <th></th>\n",
       "      <th>ID</th>\n",
       "      <th>year</th>\n",
       "      <th>loan_amount</th>\n",
       "      <th>rate_of_interest</th>\n",
       "      <th>Interest_rate_spread</th>\n",
       "      <th>Upfront_charges</th>\n",
       "      <th>term</th>\n",
       "      <th>property_value</th>\n",
       "      <th>income</th>\n",
       "      <th>Credit_Score</th>\n",
       "      <th>...</th>\n",
       "      <th>age_45-54</th>\n",
       "      <th>age_55-64</th>\n",
       "      <th>age_65-74</th>\n",
       "      <th>age_&lt;25</th>\n",
       "      <th>age_&gt;74</th>\n",
       "      <th>submission_of_application_to_inst</th>\n",
       "      <th>Region_North-East</th>\n",
       "      <th>Region_central</th>\n",
       "      <th>Region_south</th>\n",
       "      <th>Security_Type_direct</th>\n",
       "    </tr>\n",
       "  </thead>\n",
       "  <tbody>\n",
       "    <tr>\n",
       "      <th>0</th>\n",
       "      <td>-1.732039</td>\n",
       "      <td>0.0</td>\n",
       "      <td>-1.166980</td>\n",
       "      <td>NaN</td>\n",
       "      <td>NaN</td>\n",
       "      <td>NaN</td>\n",
       "      <td>0.425679</td>\n",
       "      <td>-1.055453</td>\n",
       "      <td>-0.803092</td>\n",
       "      <td>0.502357</td>\n",
       "      <td>...</td>\n",
       "      <td>0</td>\n",
       "      <td>0</td>\n",
       "      <td>0</td>\n",
       "      <td>0</td>\n",
       "      <td>0</td>\n",
       "      <td>1</td>\n",
       "      <td>0</td>\n",
       "      <td>0</td>\n",
       "      <td>1</td>\n",
       "      <td>1</td>\n",
       "    </tr>\n",
       "    <tr>\n",
       "      <th>1</th>\n",
       "      <td>-1.732016</td>\n",
       "      <td>0.0</td>\n",
       "      <td>-0.677607</td>\n",
       "      <td>NaN</td>\n",
       "      <td>NaN</td>\n",
       "      <td>NaN</td>\n",
       "      <td>0.425679</td>\n",
       "      <td>NaN</td>\n",
       "      <td>-0.304367</td>\n",
       "      <td>-1.275413</td>\n",
       "      <td>...</td>\n",
       "      <td>0</td>\n",
       "      <td>1</td>\n",
       "      <td>0</td>\n",
       "      <td>0</td>\n",
       "      <td>0</td>\n",
       "      <td>1</td>\n",
       "      <td>0</td>\n",
       "      <td>0</td>\n",
       "      <td>0</td>\n",
       "      <td>1</td>\n",
       "    </tr>\n",
       "    <tr>\n",
       "      <th>2</th>\n",
       "      <td>-1.731993</td>\n",
       "      <td>0.0</td>\n",
       "      <td>0.409890</td>\n",
       "      <td>0.916520</td>\n",
       "      <td>-0.471027</td>\n",
       "      <td>-0.808954</td>\n",
       "      <td>0.425679</td>\n",
       "      <td>0.028079</td>\n",
       "      <td>0.388307</td>\n",
       "      <td>1.158234</td>\n",
       "      <td>...</td>\n",
       "      <td>0</td>\n",
       "      <td>0</td>\n",
       "      <td>0</td>\n",
       "      <td>0</td>\n",
       "      <td>0</td>\n",
       "      <td>1</td>\n",
       "      <td>0</td>\n",
       "      <td>0</td>\n",
       "      <td>1</td>\n",
       "      <td>1</td>\n",
       "    </tr>\n",
       "    <tr>\n",
       "      <th>3</th>\n",
       "      <td>-1.731969</td>\n",
       "      <td>0.0</td>\n",
       "      <td>0.681764</td>\n",
       "      <td>0.364318</td>\n",
       "      <td>0.466521</td>\n",
       "      <td>NaN</td>\n",
       "      <td>0.425679</td>\n",
       "      <td>0.444822</td>\n",
       "      <td>0.757733</td>\n",
       "      <td>-0.973365</td>\n",
       "      <td>...</td>\n",
       "      <td>1</td>\n",
       "      <td>0</td>\n",
       "      <td>0</td>\n",
       "      <td>0</td>\n",
       "      <td>0</td>\n",
       "      <td>0</td>\n",
       "      <td>0</td>\n",
       "      <td>0</td>\n",
       "      <td>0</td>\n",
       "      <td>1</td>\n",
       "    </tr>\n",
       "    <tr>\n",
       "      <th>4</th>\n",
       "      <td>-1.731946</td>\n",
       "      <td>0.0</td>\n",
       "      <td>1.986759</td>\n",
       "      <td>-0.081006</td>\n",
       "      <td>-0.267924</td>\n",
       "      <td>-0.991969</td>\n",
       "      <td>0.425679</td>\n",
       "      <td>0.722651</td>\n",
       "      <td>0.536077</td>\n",
       "      <td>-0.843916</td>\n",
       "      <td>...</td>\n",
       "      <td>0</td>\n",
       "      <td>0</td>\n",
       "      <td>0</td>\n",
       "      <td>0</td>\n",
       "      <td>0</td>\n",
       "      <td>0</td>\n",
       "      <td>0</td>\n",
       "      <td>0</td>\n",
       "      <td>0</td>\n",
       "      <td>1</td>\n",
       "    </tr>\n",
       "  </tbody>\n",
       "</table>\n",
       "<p>5 rows × 51 columns</p>\n",
       "</div>"
      ],
      "text/plain": [
       "         ID  year  loan_amount  rate_of_interest  Interest_rate_spread  \\\n",
       "0 -1.732039   0.0    -1.166980               NaN                   NaN   \n",
       "1 -1.732016   0.0    -0.677607               NaN                   NaN   \n",
       "2 -1.731993   0.0     0.409890          0.916520             -0.471027   \n",
       "3 -1.731969   0.0     0.681764          0.364318              0.466521   \n",
       "4 -1.731946   0.0     1.986759         -0.081006             -0.267924   \n",
       "\n",
       "   Upfront_charges      term  property_value    income  Credit_Score  ...  \\\n",
       "0              NaN  0.425679       -1.055453 -0.803092      0.502357  ...   \n",
       "1              NaN  0.425679             NaN -0.304367     -1.275413  ...   \n",
       "2        -0.808954  0.425679        0.028079  0.388307      1.158234  ...   \n",
       "3              NaN  0.425679        0.444822  0.757733     -0.973365  ...   \n",
       "4        -0.991969  0.425679        0.722651  0.536077     -0.843916  ...   \n",
       "\n",
       "   age_45-54  age_55-64  age_65-74  age_<25  age_>74  \\\n",
       "0          0          0          0        0        0   \n",
       "1          0          1          0        0        0   \n",
       "2          0          0          0        0        0   \n",
       "3          1          0          0        0        0   \n",
       "4          0          0          0        0        0   \n",
       "\n",
       "   submission_of_application_to_inst  Region_North-East  Region_central  \\\n",
       "0                                  1                  0               0   \n",
       "1                                  1                  0               0   \n",
       "2                                  1                  0               0   \n",
       "3                                  0                  0               0   \n",
       "4                                  0                  0               0   \n",
       "\n",
       "   Region_south  Security_Type_direct  \n",
       "0             1                     1  \n",
       "1             0                     1  \n",
       "2             1                     1  \n",
       "3             0                     1  \n",
       "4             0                     1  \n",
       "\n",
       "[5 rows x 51 columns]"
      ]
     },
     "execution_count": 34,
     "metadata": {},
     "output_type": "execute_result"
    }
   ],
   "source": [
    "df_final.head()"
   ]
  },
  {
   "cell_type": "code",
   "execution_count": 35,
   "id": "4761d9c3",
   "metadata": {},
   "outputs": [],
   "source": [
    "df_final['rate_of_interest'] = df_final['rate_of_interest'].replace(np.nan, 0)"
   ]
  },
  {
   "cell_type": "code",
   "execution_count": 36,
   "id": "0293eccc",
   "metadata": {},
   "outputs": [],
   "source": [
    "df_final['Interest_rate_spread'] = df_final['Interest_rate_spread'].replace(np.nan, 0)\n",
    "df_final['Upfront_charges'] = df_final['Upfront_charges'].replace(np.nan, 0)\n",
    "df_final['property_value'] = df_final['property_value'].replace(np.nan, 0)"
   ]
  },
  {
   "cell_type": "code",
   "execution_count": 37,
   "id": "e1ae2c49",
   "metadata": {},
   "outputs": [],
   "source": [
    "df_final['term'] = df_final['term'].replace(np.nan, 0)\n",
    "df_final['income'] = df_final['income'].replace(np.nan, 0)"
   ]
  },
  {
   "cell_type": "code",
   "execution_count": 38,
   "id": "41110f6b",
   "metadata": {},
   "outputs": [],
   "source": [
    "df_final['LTV'] = df_final['LTV'].replace(np.nan, 0)"
   ]
  },
  {
   "cell_type": "code",
   "execution_count": 39,
   "id": "31146414",
   "metadata": {},
   "outputs": [],
   "source": [
    "df_final['dtir1'] = df_final['dtir1'].replace(np.nan, 0)"
   ]
  },
  {
   "cell_type": "code",
   "execution_count": 40,
   "id": "591b4a02",
   "metadata": {},
   "outputs": [
    {
     "data": {
      "text/html": [
       "<div>\n",
       "<style scoped>\n",
       "    .dataframe tbody tr th:only-of-type {\n",
       "        vertical-align: middle;\n",
       "    }\n",
       "\n",
       "    .dataframe tbody tr th {\n",
       "        vertical-align: top;\n",
       "    }\n",
       "\n",
       "    .dataframe thead th {\n",
       "        text-align: right;\n",
       "    }\n",
       "</style>\n",
       "<table border=\"1\" class=\"dataframe\">\n",
       "  <thead>\n",
       "    <tr style=\"text-align: right;\">\n",
       "      <th></th>\n",
       "      <th>ID</th>\n",
       "      <th>year</th>\n",
       "      <th>loan_amount</th>\n",
       "      <th>rate_of_interest</th>\n",
       "      <th>Interest_rate_spread</th>\n",
       "      <th>Upfront_charges</th>\n",
       "      <th>term</th>\n",
       "      <th>property_value</th>\n",
       "      <th>income</th>\n",
       "      <th>Credit_Score</th>\n",
       "      <th>...</th>\n",
       "      <th>age_45-54</th>\n",
       "      <th>age_55-64</th>\n",
       "      <th>age_65-74</th>\n",
       "      <th>age_&lt;25</th>\n",
       "      <th>age_&gt;74</th>\n",
       "      <th>submission_of_application_to_inst</th>\n",
       "      <th>Region_North-East</th>\n",
       "      <th>Region_central</th>\n",
       "      <th>Region_south</th>\n",
       "      <th>Security_Type_direct</th>\n",
       "    </tr>\n",
       "  </thead>\n",
       "  <tbody>\n",
       "    <tr>\n",
       "      <th>0</th>\n",
       "      <td>-1.732039</td>\n",
       "      <td>0.0</td>\n",
       "      <td>-1.166980</td>\n",
       "      <td>0.000000</td>\n",
       "      <td>0.000000</td>\n",
       "      <td>0.000000</td>\n",
       "      <td>0.425679</td>\n",
       "      <td>-1.055453</td>\n",
       "      <td>-0.803092</td>\n",
       "      <td>0.502357</td>\n",
       "      <td>...</td>\n",
       "      <td>0</td>\n",
       "      <td>0</td>\n",
       "      <td>0</td>\n",
       "      <td>0</td>\n",
       "      <td>0</td>\n",
       "      <td>1</td>\n",
       "      <td>0</td>\n",
       "      <td>0</td>\n",
       "      <td>1</td>\n",
       "      <td>1</td>\n",
       "    </tr>\n",
       "    <tr>\n",
       "      <th>1</th>\n",
       "      <td>-1.732016</td>\n",
       "      <td>0.0</td>\n",
       "      <td>-0.677607</td>\n",
       "      <td>0.000000</td>\n",
       "      <td>0.000000</td>\n",
       "      <td>0.000000</td>\n",
       "      <td>0.425679</td>\n",
       "      <td>0.000000</td>\n",
       "      <td>-0.304367</td>\n",
       "      <td>-1.275413</td>\n",
       "      <td>...</td>\n",
       "      <td>0</td>\n",
       "      <td>1</td>\n",
       "      <td>0</td>\n",
       "      <td>0</td>\n",
       "      <td>0</td>\n",
       "      <td>1</td>\n",
       "      <td>0</td>\n",
       "      <td>0</td>\n",
       "      <td>0</td>\n",
       "      <td>1</td>\n",
       "    </tr>\n",
       "    <tr>\n",
       "      <th>2</th>\n",
       "      <td>-1.731993</td>\n",
       "      <td>0.0</td>\n",
       "      <td>0.409890</td>\n",
       "      <td>0.916520</td>\n",
       "      <td>-0.471027</td>\n",
       "      <td>-0.808954</td>\n",
       "      <td>0.425679</td>\n",
       "      <td>0.028079</td>\n",
       "      <td>0.388307</td>\n",
       "      <td>1.158234</td>\n",
       "      <td>...</td>\n",
       "      <td>0</td>\n",
       "      <td>0</td>\n",
       "      <td>0</td>\n",
       "      <td>0</td>\n",
       "      <td>0</td>\n",
       "      <td>1</td>\n",
       "      <td>0</td>\n",
       "      <td>0</td>\n",
       "      <td>1</td>\n",
       "      <td>1</td>\n",
       "    </tr>\n",
       "    <tr>\n",
       "      <th>3</th>\n",
       "      <td>-1.731969</td>\n",
       "      <td>0.0</td>\n",
       "      <td>0.681764</td>\n",
       "      <td>0.364318</td>\n",
       "      <td>0.466521</td>\n",
       "      <td>0.000000</td>\n",
       "      <td>0.425679</td>\n",
       "      <td>0.444822</td>\n",
       "      <td>0.757733</td>\n",
       "      <td>-0.973365</td>\n",
       "      <td>...</td>\n",
       "      <td>1</td>\n",
       "      <td>0</td>\n",
       "      <td>0</td>\n",
       "      <td>0</td>\n",
       "      <td>0</td>\n",
       "      <td>0</td>\n",
       "      <td>0</td>\n",
       "      <td>0</td>\n",
       "      <td>0</td>\n",
       "      <td>1</td>\n",
       "    </tr>\n",
       "    <tr>\n",
       "      <th>4</th>\n",
       "      <td>-1.731946</td>\n",
       "      <td>0.0</td>\n",
       "      <td>1.986759</td>\n",
       "      <td>-0.081006</td>\n",
       "      <td>-0.267924</td>\n",
       "      <td>-0.991969</td>\n",
       "      <td>0.425679</td>\n",
       "      <td>0.722651</td>\n",
       "      <td>0.536077</td>\n",
       "      <td>-0.843916</td>\n",
       "      <td>...</td>\n",
       "      <td>0</td>\n",
       "      <td>0</td>\n",
       "      <td>0</td>\n",
       "      <td>0</td>\n",
       "      <td>0</td>\n",
       "      <td>0</td>\n",
       "      <td>0</td>\n",
       "      <td>0</td>\n",
       "      <td>0</td>\n",
       "      <td>1</td>\n",
       "    </tr>\n",
       "  </tbody>\n",
       "</table>\n",
       "<p>5 rows × 51 columns</p>\n",
       "</div>"
      ],
      "text/plain": [
       "         ID  year  loan_amount  rate_of_interest  Interest_rate_spread  \\\n",
       "0 -1.732039   0.0    -1.166980          0.000000              0.000000   \n",
       "1 -1.732016   0.0    -0.677607          0.000000              0.000000   \n",
       "2 -1.731993   0.0     0.409890          0.916520             -0.471027   \n",
       "3 -1.731969   0.0     0.681764          0.364318              0.466521   \n",
       "4 -1.731946   0.0     1.986759         -0.081006             -0.267924   \n",
       "\n",
       "   Upfront_charges      term  property_value    income  Credit_Score  ...  \\\n",
       "0         0.000000  0.425679       -1.055453 -0.803092      0.502357  ...   \n",
       "1         0.000000  0.425679        0.000000 -0.304367     -1.275413  ...   \n",
       "2        -0.808954  0.425679        0.028079  0.388307      1.158234  ...   \n",
       "3         0.000000  0.425679        0.444822  0.757733     -0.973365  ...   \n",
       "4        -0.991969  0.425679        0.722651  0.536077     -0.843916  ...   \n",
       "\n",
       "   age_45-54  age_55-64  age_65-74  age_<25  age_>74  \\\n",
       "0          0          0          0        0        0   \n",
       "1          0          1          0        0        0   \n",
       "2          0          0          0        0        0   \n",
       "3          1          0          0        0        0   \n",
       "4          0          0          0        0        0   \n",
       "\n",
       "   submission_of_application_to_inst  Region_North-East  Region_central  \\\n",
       "0                                  1                  0               0   \n",
       "1                                  1                  0               0   \n",
       "2                                  1                  0               0   \n",
       "3                                  0                  0               0   \n",
       "4                                  0                  0               0   \n",
       "\n",
       "   Region_south  Security_Type_direct  \n",
       "0             1                     1  \n",
       "1             0                     1  \n",
       "2             1                     1  \n",
       "3             0                     1  \n",
       "4             0                     1  \n",
       "\n",
       "[5 rows x 51 columns]"
      ]
     },
     "execution_count": 40,
     "metadata": {},
     "output_type": "execute_result"
    }
   ],
   "source": [
    "df_final.head()"
   ]
  },
  {
   "cell_type": "code",
   "execution_count": 41,
   "id": "8350b140",
   "metadata": {},
   "outputs": [
    {
     "data": {
      "text/plain": [
       "(13, 13)"
      ]
     },
     "execution_count": 41,
     "metadata": {},
     "output_type": "execute_result"
    }
   ],
   "source": [
    "# Finding out the correlation between the features\n",
    "corr = df1.corr()\n",
    "corr.shape"
   ]
  },
  {
   "cell_type": "code",
   "execution_count": 42,
   "id": "85063fc9",
   "metadata": {},
   "outputs": [
    {
     "data": {
      "image/png": "[encoded data removed]",
      "text/plain": [
       "<Figure size 1440x1440 with 2 Axes>"
      ]
     },
     "metadata": {
      "needs_background": "light"
     },
     "output_type": "display_data"
    }
   ],
   "source": [
    "plt.figure(figsize=(20,20))\n",
    "sns.heatmap(corr, cbar=True, square= True, fmt='.1f', annot=True, annot_kws={'size':15}, cmap='Greens')\n",
    "plt.show()"
   ]
  },
  {
   "cell_type": "code",
   "execution_count": 43,
   "id": "002b67e0",
   "metadata": {},
   "outputs": [
    {
     "data": {
      "text/plain": [
       "Index(['loan_limit', 'Gender', 'approv_in_adv', 'loan_type', 'loan_purpose',\n",
       "       'Credit_Worthiness', 'open_credit', 'business_or_commercial',\n",
       "       'Neg_ammortization', 'interest_only', 'lump_sum_payment',\n",
       "       'construction_type', 'occupancy_type', 'Secured_by', 'total_units',\n",
       "       'credit_type', 'co-applicant_credit_type', 'age',\n",
       "       'submission_of_application', 'Region', 'Security_Type'],\n",
       "      dtype='object')"
      ]
     },
     "execution_count": 43,
     "metadata": {},
     "output_type": "execute_result"
    }
   ],
   "source": [
    "df_cat = df1.select_dtypes(include = 'object')\n",
    "df_cat.columns"
   ]
  },
  {
   "cell_type": "code",
   "execution_count": 44,
   "id": "c28aecd0",
   "metadata": {},
   "outputs": [
    {
     "data": {
      "image/png": "[encoded data removed]",
      "text/plain": [
       "<Figure size 432x288 with 1 Axes>"
      ]
     },
     "metadata": {
      "needs_background": "light"
     },
     "output_type": "display_data"
    }
   ],
   "source": [
    "df1['total_units'].hist()\n",
    "plt.show()"
   ]
  },
  {
   "cell_type": "code",
   "execution_count": 45,
   "id": "bbf7798f",
   "metadata": {},
   "outputs": [
    {
     "data": {
      "image/png": "[encoded data removed]",
      "text/plain": [
       "<Figure size 432x288 with 1 Axes>"
      ]
     },
     "metadata": {
      "needs_background": "light"
     },
     "output_type": "display_data"
    }
   ],
   "source": [
    "df1['Security_Type'].hist()\n",
    "plt.show()"
   ]
  },
  {
   "cell_type": "code",
   "execution_count": 46,
   "id": "3a7bf98b",
   "metadata": {},
   "outputs": [
    {
     "data": {
      "image/png": "[encoded data removed]",
      "text/plain": [
       "<Figure size 1440x1440 with 6 Axes>"
      ]
     },
     "metadata": {
      "needs_background": "light"
     },
     "output_type": "display_data"
    }
   ],
   "source": [
    "# Plotting countplots for the categorical variables\n",
    "fig,ax = plt.subplots(2,3, figsize=(20,20))            \n",
    "plt.suptitle(\"Distribution of various factors\", fontsize=20)\n",
    "sns.countplot(df_cat['loan_limit'], ax = ax[0,0]) \n",
    "sns.countplot(df_cat['approv_in_adv'], ax = ax[0,1]) \n",
    "sns.countplot(df_cat['loan_type'], ax = ax[0,2]) \n",
    "sns.countplot(df_cat['loan_purpose'], ax = ax[1,0])\n",
    "sns.countplot(df_cat['Gender'], ax = ax[1,1])  \n",
    "sns.countplot(df_cat['open_credit'], ax = ax[1,2]) \n",
    "plt.xticks(rotation=20)\n",
    "plt.subplots_adjust(bottom=0.4)\n",
    "plt.show()"
   ]
  },
  {
   "cell_type": "code",
   "execution_count": 47,
   "id": "a56012a7",
   "metadata": {},
   "outputs": [
    {
     "data": {
      "image/png": "[encoded data removed]",
      "text/plain": [
       "<Figure size 1440x1440 with 6 Axes>"
      ]
     },
     "metadata": {
      "needs_background": "light"
     },
     "output_type": "display_data"
    }
   ],
   "source": [
    "# Plotting countplots for the categorical variables\n",
    "fig,ax = plt.subplots(2,3, figsize=(20,20))            \n",
    "plt.suptitle(\"Distribution of various factors\", fontsize=20)\n",
    "sns.countplot(df_cat['business_or_commercial'], ax = ax[0,0]) \n",
    "sns.countplot(df_cat['Neg_ammortization'], ax = ax[0,1]) \n",
    "sns.countplot(df_cat['interest_only'], ax = ax[0,2]) \n",
    "sns.countplot(df_cat['lump_sum_payment'], ax = ax[1,0])\n",
    "sns.countplot(df_cat['construction_type'], ax = ax[1,1])  \n",
    "sns.countplot(df_cat['occupancy_type'], ax = ax[1,2]) \n",
    "plt.xticks(rotation=20)\n",
    "plt.subplots_adjust(bottom=0.4)\n",
    "plt.show()"
   ]
  },
  {
   "cell_type": "code",
   "execution_count": 48,
   "id": "45ff304a",
   "metadata": {},
   "outputs": [
    {
     "data": {
      "image/png": "[encoded data removed]",
      "text/plain": [
       "<Figure size 1440x1440 with 6 Axes>"
      ]
     },
     "metadata": {
      "needs_background": "light"
     },
     "output_type": "display_data"
    }
   ],
   "source": [
    "fig,ax = plt.subplots(2,3, figsize=(20,20))            \n",
    "plt.suptitle(\"Distribution of various factors\", fontsize=20)\n",
    "\n",
    "sns.countplot(df_cat['Secured_by'], ax = ax[0,0]) \n",
    "sns.countplot(df_cat['credit_type'], ax = ax[0,1]) \n",
    "sns.countplot(df_cat['co-applicant_credit_type'], ax = ax[0,2]) \n",
    "sns.countplot(df_cat['age'], ax = ax[1,0]) \n",
    "sns.countplot(df_cat['submission_of_application'], ax = ax[1,1]) \n",
    "sns.countplot(df_cat['Region'], ax = ax[1,2]) \n",
    "plt.xticks(rotation=20)\n",
    "plt.subplots_adjust(bottom=0.4)\n",
    "plt.show()"
   ]
  },
  {
   "cell_type": "code",
   "execution_count": 49,
   "id": "d58300fd",
   "metadata": {},
   "outputs": [],
   "source": [
    "from sklearn.model_selection import train_test_split\n",
    "X= df_final.drop(\"Status\",axis=1)\n",
    "Y= df_final[\"Status\"].astype(\"int\")"
   ]
  },
  {
   "cell_type": "code",
   "execution_count": 50,
   "id": "ba008052",
   "metadata": {},
   "outputs": [],
   "source": [
    "xtrain,xtest,ytrain,ytest= train_test_split(X,Y,random_state=20,test_size=0.30)"
   ]
  },
  {
   "cell_type": "code",
   "execution_count": 51,
   "id": "6054e554",
   "metadata": {},
   "outputs": [
    {
     "data": {
      "text/plain": [
       "Ttest_1sampResult(statistic=1.0358707369175206, pvalue=0.3002648582265009)"
      ]
     },
     "execution_count": 51,
     "metadata": {},
     "output_type": "execute_result"
    }
   ],
   "source": [
    "\n",
    "from scipy .stats import ttest_1samp\n",
    "ttest_1samp(xtrain[\"property_value\"],df_final[\"property_value\"].mean())"
   ]
  },
  {
   "cell_type": "code",
   "execution_count": 52,
   "id": "0151ec36",
   "metadata": {},
   "outputs": [
    {
     "data": {
      "text/plain": [
       "Ttest_1sampResult(statistic=-1.6482100196438962, pvalue=0.09931662515540703)"
      ]
     },
     "execution_count": 52,
     "metadata": {},
     "output_type": "execute_result"
    }
   ],
   "source": [
    "\n",
    "from scipy .stats import ttest_1samp\n",
    "ttest_1samp(xtest[\"property_value\"],df_final[\"property_value\"].mean())"
   ]
  },
  {
   "cell_type": "markdown",
   "id": "5266dc5d",
   "metadata": {},
   "source": [
    "We can conclude that for both xtrain and xtest pval>0.05 Thus we accept null hypothesis which says that sample represent Population.\n"
   ]
  },
  {
   "cell_type": "code",
   "execution_count": 53,
   "id": "1e3a32f2",
   "metadata": {},
   "outputs": [],
   "source": [
    "from sklearn.linear_model import LogisticRegression\n",
    "LR= LogisticRegression()"
   ]
  },
  {
   "cell_type": "code",
   "execution_count": 54,
   "id": "b27515d2",
   "metadata": {},
   "outputs": [
    {
     "data": {
      "text/plain": [
       "LogisticRegression()"
      ]
     },
     "execution_count": 54,
     "metadata": {},
     "output_type": "execute_result"
    }
   ],
   "source": [
    "LR.fit(xtrain,ytrain)"
   ]
  },
  {
   "cell_type": "code",
   "execution_count": 55,
   "id": "de07f78d",
   "metadata": {},
   "outputs": [
    {
     "name": "stdout",
     "output_type": "stream",
     "text": [
      "Training Accuracy\n",
      "0.8681836089517532\n",
      "Testing Accuracy\n",
      "0.8674244972085827\n"
     ]
    }
   ],
   "source": [
    "print(\"Training Accuracy\")\n",
    "print(LR.score(xtrain,ytrain))\n",
    "print(\"Testing Accuracy\")\n",
    "print(LR.score(xtest,ytest))"
   ]
  },
  {
   "cell_type": "code",
   "execution_count": 56,
   "id": "62efe45f",
   "metadata": {},
   "outputs": [],
   "source": [
    "ypred= LR.predict(xtest)"
   ]
  },
  {
   "cell_type": "code",
   "execution_count": 57,
   "id": "7f06089f",
   "metadata": {},
   "outputs": [
    {
     "name": "stdout",
     "output_type": "stream",
     "text": [
      "[[33224   399]\n",
      " [ 5514  5464]]\n",
      "              precision    recall  f1-score   support\n",
      "\n",
      "           0       0.86      0.99      0.92     33623\n",
      "           1       0.93      0.50      0.65     10978\n",
      "\n",
      "    accuracy                           0.87     44601\n",
      "   macro avg       0.89      0.74      0.78     44601\n",
      "weighted avg       0.88      0.87      0.85     44601\n",
      "\n"
     ]
    }
   ],
   "source": [
    "from sklearn.metrics import confusion_matrix,classification_report\n",
    "print(confusion_matrix(ytest,ypred))\n",
    "print(classification_report(ytest,ypred))"
   ]
  },
  {
   "cell_type": "code",
   "execution_count": 58,
   "id": "81ad7026",
   "metadata": {},
   "outputs": [
    {
     "data": {
      "text/html": [
       "<div>\n",
       "<style scoped>\n",
       "    .dataframe tbody tr th:only-of-type {\n",
       "        vertical-align: middle;\n",
       "    }\n",
       "\n",
       "    .dataframe tbody tr th {\n",
       "        vertical-align: top;\n",
       "    }\n",
       "\n",
       "    .dataframe thead th {\n",
       "        text-align: right;\n",
       "    }\n",
       "</style>\n",
       "<table border=\"1\" class=\"dataframe\">\n",
       "  <thead>\n",
       "    <tr style=\"text-align: right;\">\n",
       "      <th></th>\n",
       "      <th>Features</th>\n",
       "    </tr>\n",
       "  </thead>\n",
       "  <tbody>\n",
       "    <tr>\n",
       "      <th>0.007763</th>\n",
       "      <td>ID</td>\n",
       "    </tr>\n",
       "    <tr>\n",
       "      <th>0.000000</th>\n",
       "      <td>year</td>\n",
       "    </tr>\n",
       "    <tr>\n",
       "      <th>-0.025562</th>\n",
       "      <td>loan_amount</td>\n",
       "    </tr>\n",
       "    <tr>\n",
       "      <th>0.005497</th>\n",
       "      <td>rate_of_interest</td>\n",
       "    </tr>\n",
       "    <tr>\n",
       "      <th>-0.453462</th>\n",
       "      <td>Interest_rate_spread</td>\n",
       "    </tr>\n",
       "    <tr>\n",
       "      <th>-0.161507</th>\n",
       "      <td>Upfront_charges</td>\n",
       "    </tr>\n",
       "    <tr>\n",
       "      <th>-0.068049</th>\n",
       "      <td>term</td>\n",
       "    </tr>\n",
       "    <tr>\n",
       "      <th>0.206744</th>\n",
       "      <td>property_value</td>\n",
       "    </tr>\n",
       "    <tr>\n",
       "      <th>-0.308634</th>\n",
       "      <td>income</td>\n",
       "    </tr>\n",
       "    <tr>\n",
       "      <th>0.008743</th>\n",
       "      <td>Credit_Score</td>\n",
       "    </tr>\n",
       "    <tr>\n",
       "      <th>0.840003</th>\n",
       "      <td>LTV</td>\n",
       "    </tr>\n",
       "    <tr>\n",
       "      <th>0.098201</th>\n",
       "      <td>dtir1</td>\n",
       "    </tr>\n",
       "    <tr>\n",
       "      <th>0.719484</th>\n",
       "      <td>loan_limit_ncf</td>\n",
       "    </tr>\n",
       "    <tr>\n",
       "      <th>-0.010783</th>\n",
       "      <td>Gender_Joint</td>\n",
       "    </tr>\n",
       "    <tr>\n",
       "      <th>0.123652</th>\n",
       "      <td>Gender_Male</td>\n",
       "    </tr>\n",
       "    <tr>\n",
       "      <th>-0.015995</th>\n",
       "      <td>Gender_Sex Not Available</td>\n",
       "    </tr>\n",
       "    <tr>\n",
       "      <th>-0.278280</th>\n",
       "      <td>approv_in_adv_pre</td>\n",
       "    </tr>\n",
       "    <tr>\n",
       "      <th>1.336355</th>\n",
       "      <td>loan_type_type2</td>\n",
       "    </tr>\n",
       "    <tr>\n",
       "      <th>-0.759697</th>\n",
       "      <td>loan_type_type3</td>\n",
       "    </tr>\n",
       "    <tr>\n",
       "      <th>1.000309</th>\n",
       "      <td>loan_purpose_p2</td>\n",
       "    </tr>\n",
       "    <tr>\n",
       "      <th>0.322500</th>\n",
       "      <td>loan_purpose_p3</td>\n",
       "    </tr>\n",
       "    <tr>\n",
       "      <th>0.114460</th>\n",
       "      <td>loan_purpose_p4</td>\n",
       "    </tr>\n",
       "    <tr>\n",
       "      <th>0.392967</th>\n",
       "      <td>Credit_Worthiness_l2</td>\n",
       "    </tr>\n",
       "    <tr>\n",
       "      <th>-0.370468</th>\n",
       "      <td>open_credit_opc</td>\n",
       "    </tr>\n",
       "    <tr>\n",
       "      <th>0.646608</th>\n",
       "      <td>business_or_commercial_nob/c</td>\n",
       "    </tr>\n",
       "    <tr>\n",
       "      <th>-1.030182</th>\n",
       "      <td>Neg_ammortization_not_neg</td>\n",
       "    </tr>\n",
       "    <tr>\n",
       "      <th>-0.215747</th>\n",
       "      <td>interest_only_not_int</td>\n",
       "    </tr>\n",
       "    <tr>\n",
       "      <th>-2.646445</th>\n",
       "      <td>lump_sum_payment_not_lpsm</td>\n",
       "    </tr>\n",
       "    <tr>\n",
       "      <th>-0.524088</th>\n",
       "      <td>construction_type_sb</td>\n",
       "    </tr>\n",
       "    <tr>\n",
       "      <th>-1.074760</th>\n",
       "      <td>occupancy_type_pr</td>\n",
       "    </tr>\n",
       "    <tr>\n",
       "      <th>-0.513864</th>\n",
       "      <td>occupancy_type_sr</td>\n",
       "    </tr>\n",
       "    <tr>\n",
       "      <th>2.507051</th>\n",
       "      <td>Secured_by_land</td>\n",
       "    </tr>\n",
       "    <tr>\n",
       "      <th>0.741775</th>\n",
       "      <td>total_units_2U</td>\n",
       "    </tr>\n",
       "    <tr>\n",
       "      <th>0.951837</th>\n",
       "      <td>total_units_3U</td>\n",
       "    </tr>\n",
       "    <tr>\n",
       "      <th>0.372623</th>\n",
       "      <td>total_units_4U</td>\n",
       "    </tr>\n",
       "    <tr>\n",
       "      <th>0.041523</th>\n",
       "      <td>credit_type_CRIF</td>\n",
       "    </tr>\n",
       "    <tr>\n",
       "      <th>9.574801</th>\n",
       "      <td>credit_type_EQUI</td>\n",
       "    </tr>\n",
       "    <tr>\n",
       "      <th>-0.011548</th>\n",
       "      <td>credit_type_EXP</td>\n",
       "    </tr>\n",
       "    <tr>\n",
       "      <th>-0.278716</th>\n",
       "      <td>co-applicant_credit_type_EXP</td>\n",
       "    </tr>\n",
       "    <tr>\n",
       "      <th>0.060218</th>\n",
       "      <td>age_35-44</td>\n",
       "    </tr>\n",
       "    <tr>\n",
       "      <th>0.190018</th>\n",
       "      <td>age_45-54</td>\n",
       "    </tr>\n",
       "    <tr>\n",
       "      <th>0.263789</th>\n",
       "      <td>age_55-64</td>\n",
       "    </tr>\n",
       "    <tr>\n",
       "      <th>0.277341</th>\n",
       "      <td>age_65-74</td>\n",
       "    </tr>\n",
       "    <tr>\n",
       "      <th>0.512031</th>\n",
       "      <td>age_&lt;25</td>\n",
       "    </tr>\n",
       "    <tr>\n",
       "      <th>0.398134</th>\n",
       "      <td>age_&gt;74</td>\n",
       "    </tr>\n",
       "    <tr>\n",
       "      <th>1.006426</th>\n",
       "      <td>submission_of_application_to_inst</td>\n",
       "    </tr>\n",
       "    <tr>\n",
       "      <th>0.290405</th>\n",
       "      <td>Region_North-East</td>\n",
       "    </tr>\n",
       "    <tr>\n",
       "      <th>0.275907</th>\n",
       "      <td>Region_central</td>\n",
       "    </tr>\n",
       "    <tr>\n",
       "      <th>0.195499</th>\n",
       "      <td>Region_south</td>\n",
       "    </tr>\n",
       "    <tr>\n",
       "      <th>-0.524088</th>\n",
       "      <td>Security_Type_direct</td>\n",
       "    </tr>\n",
       "  </tbody>\n",
       "</table>\n",
       "</div>"
      ],
      "text/plain": [
       "                                    Features\n",
       " 0.007763                                 ID\n",
       " 0.000000                               year\n",
       "-0.025562                        loan_amount\n",
       " 0.005497                   rate_of_interest\n",
       "-0.453462               Interest_rate_spread\n",
       "-0.161507                    Upfront_charges\n",
       "-0.068049                               term\n",
       " 0.206744                     property_value\n",
       "-0.308634                             income\n",
       " 0.008743                       Credit_Score\n",
       " 0.840003                                LTV\n",
       " 0.098201                              dtir1\n",
       " 0.719484                     loan_limit_ncf\n",
       "-0.010783                       Gender_Joint\n",
       " 0.123652                        Gender_Male\n",
       "-0.015995           Gender_Sex Not Available\n",
       "-0.278280                  approv_in_adv_pre\n",
       " 1.336355                    loan_type_type2\n",
       "-0.759697                    loan_type_type3\n",
       " 1.000309                    loan_purpose_p2\n",
       " 0.322500                    loan_purpose_p3\n",
       " 0.114460                    loan_purpose_p4\n",
       " 0.392967               Credit_Worthiness_l2\n",
       "-0.370468                    open_credit_opc\n",
       " 0.646608       business_or_commercial_nob/c\n",
       "-1.030182          Neg_ammortization_not_neg\n",
       "-0.215747              interest_only_not_int\n",
       "-2.646445          lump_sum_payment_not_lpsm\n",
       "-0.524088               construction_type_sb\n",
       "-1.074760                  occupancy_type_pr\n",
       "-0.513864                  occupancy_type_sr\n",
       " 2.507051                    Secured_by_land\n",
       " 0.741775                     total_units_2U\n",
       " 0.951837                     total_units_3U\n",
       " 0.372623                     total_units_4U\n",
       " 0.041523                   credit_type_CRIF\n",
       " 9.574801                   credit_type_EQUI\n",
       "-0.011548                    credit_type_EXP\n",
       "-0.278716       co-applicant_credit_type_EXP\n",
       " 0.060218                          age_35-44\n",
       " 0.190018                          age_45-54\n",
       " 0.263789                          age_55-64\n",
       " 0.277341                          age_65-74\n",
       " 0.512031                            age_<25\n",
       " 0.398134                            age_>74\n",
       " 1.006426  submission_of_application_to_inst\n",
       " 0.290405                  Region_North-East\n",
       " 0.275907                     Region_central\n",
       " 0.195499                       Region_south\n",
       "-0.524088               Security_Type_direct"
      ]
     },
     "execution_count": 58,
     "metadata": {},
     "output_type": "execute_result"
    }
   ],
   "source": [
    "#Significant Variables:\n",
    "coef= list(LR.coef_)\n",
    "dfc= pd.DataFrame(xtrain.columns,coef)\n",
    "dfc.rename({0:\"Features\"},axis=1)"
   ]
  },
  {
   "cell_type": "code",
   "execution_count": 59,
   "id": "f02a3cfd",
   "metadata": {},
   "outputs": [
    {
     "data": {
      "text/plain": [
       "0.5762744068475105"
      ]
     },
     "execution_count": 59,
     "metadata": {},
     "output_type": "execute_result"
    }
   ],
   "source": [
    "from sklearn.metrics import cohen_kappa_score\n",
    "\n",
    "cohen_kappa_score(ytest,ypred)"
   ]
  },
  {
   "cell_type": "code",
   "execution_count": 60,
   "id": "196ddff4",
   "metadata": {},
   "outputs": [
    {
     "name": "stdout",
     "output_type": "stream",
     "text": [
      "True Positive: 5464\n",
      "True Negative: 33224\n",
      "False Positive: 399\n",
      "False Negative: 5514\n",
      "Value for Specificity: 0.9881331231597419\n",
      "False Positve Rate: 0.011866876840258112\n"
     ]
    }
   ],
   "source": [
    "confusion= (confusion_matrix(ytest,ypred))\n",
    "\n",
    "TP= confusion[1,1]\n",
    "TN= confusion[0,0]\n",
    "FP= confusion[0,1]\n",
    "FN= confusion[1,0]\n",
    "\n",
    "print(\"True Positive:\",TP)\n",
    "print(\"True Negative:\",TN)\n",
    "print(\"False Positive:\",FP)\n",
    "print(\"False Negative:\",FN)\n",
    "\n",
    "\n",
    "Specificity= TN/(TN+FP)\n",
    "print(\"Value for Specificity:\",Specificity)\n",
    "\n",
    "\n",
    "FPR= 1- Specificity\n",
    "print('False Positve Rate:',FPR)"
   ]
  },
  {
   "cell_type": "code",
   "execution_count": 61,
   "id": "146b708e",
   "metadata": {},
   "outputs": [],
   "source": [
    "from sklearn.ensemble import RandomForestClassifier\n"
   ]
  },
  {
   "cell_type": "code",
   "execution_count": 62,
   "id": "73ed8ce6",
   "metadata": {},
   "outputs": [],
   "source": [
    "df2['rate_of_interest'] = df2['rate_of_interest'].replace(np.nan, 0)"
   ]
  },
  {
   "cell_type": "code",
   "execution_count": 63,
   "id": "6d258f64",
   "metadata": {},
   "outputs": [],
   "source": [
    "df2['Interest_rate_spread'] = df2['Interest_rate_spread'].replace(np.nan, 0)\n",
    "df2['Upfront_charges'] = df2['Upfront_charges'].replace(np.nan, 0)\n",
    "df2['property_value'] = df2['property_value'].replace(np.nan, 0)\n",
    "df2['term'] = df2['term'].replace(np.nan, 0)\n",
    "df2['income'] = df2['income'].replace(np.nan, 0)\n",
    "df2['LTV'] = df2['LTV'].replace(np.nan, 0)\n",
    "df2['dtir1'] = df2['dtir1'].replace(np.nan, 0)"
   ]
  },
  {
   "cell_type": "code",
   "execution_count": 64,
   "id": "83717134",
   "metadata": {},
   "outputs": [],
   "source": [
    "df1['loan_limit'] = df1['loan_limit'].replace(np.nan, 0)\n",
    "df1['approv_in_adv'] = df1['approv_in_adv'].replace(np.nan, 0)\n",
    "df1['loan_purpose'] = df1['loan_purpose'].replace(np.nan, 0)\n",
    "df1['Neg_ammortization'] = df1['Neg_ammortization'].replace(np.nan, 0)\n",
    "df1['age'] = df1['age'].replace(np.nan, 0)\n",
    "df1['submission_of_application'] = df1['submission_of_application'].replace(np.nan, 0)\n"
   ]
  },
  {
   "cell_type": "code",
   "execution_count": 65,
   "id": "d8fa4857",
   "metadata": {},
   "outputs": [],
   "source": [
    "df1['rate_of_interest'] = df1['rate_of_interest'].replace(np.nan, 0)\n",
    "df1['Interest_rate_spread'] = df1['Interest_rate_spread'].replace(np.nan, 0)\n",
    "df1['Upfront_charges'] = df1['Upfront_charges'].replace(np.nan, 0)\n",
    "df1['property_value'] = df1['property_value'].replace(np.nan, 0)\n",
    "df1['term'] = df1['term'].replace(np.nan, 0)\n",
    "df1['income'] = df1['income'].replace(np.nan, 0)\n",
    "df1['LTV'] = df1['LTV'].replace(np.nan, 0)\n",
    "df1['dtir1'] = df1['dtir1'].replace(np.nan, 0)"
   ]
  },
  {
   "cell_type": "code",
   "execution_count": 66,
   "id": "1251924b",
   "metadata": {},
   "outputs": [],
   "source": [
    "df2['loan_limit'] = df2['loan_limit'].replace(np.nan, 0)\n",
    "df2['approv_in_adv'] = df2['approv_in_adv'].replace(np.nan, 0)\n",
    "df2['loan_purpose'] = df2['loan_purpose'].replace(np.nan, 0)\n",
    "df2['Neg_ammortization'] = df2['Neg_ammortization'].replace(np.nan, 0)\n",
    "df2['age'] = df2['age'].replace(np.nan, 0)\n",
    "df2['submission_of_application'] = df2['submission_of_application'].replace(np.nan, 0)\n"
   ]
  },
  {
   "cell_type": "code",
   "execution_count": 67,
   "id": "8b41196e",
   "metadata": {},
   "outputs": [],
   "source": [
    "Y_train = df1['Status'].astype(\"int\")\n",
    "features = ['ID', 'year', 'loan_limit', 'Gender', 'approv_in_adv', 'loan_type',\n",
    "       'loan_purpose', 'Credit_Worthiness', 'open_credit',\n",
    "       'business_or_commercial', 'loan_amount', 'rate_of_interest',\n",
    "       'Interest_rate_spread', 'Upfront_charges', 'term', 'Neg_ammortization',\n",
    "       'interest_only', 'lump_sum_payment', 'property_value',\n",
    "       'construction_type', 'occupancy_type', 'Secured_by', 'total_units',\n",
    "       'income', 'credit_type', 'Credit_Score', 'co-applicant_credit_type',\n",
    "       'age', 'submission_of_application', 'LTV', 'Region', 'Security_Type',\n",
    "        'dtir1']"
   ]
  },
  {
   "cell_type": "code",
   "execution_count": 68,
   "id": "efe4afb8",
   "metadata": {},
   "outputs": [
    {
     "data": {
      "text/plain": [
       "array([0, 0, 1, ..., 0, 0, 0])"
      ]
     },
     "execution_count": 68,
     "metadata": {},
     "output_type": "execute_result"
    }
   ],
   "source": [
    "X_train = pd.get_dummies(df1[features])\n",
    "X_test = pd.get_dummies(df2[features])\n",
    "model = RandomForestClassifier(n_estimators= 100, max_depth = 5, random_state = 1)\n",
    "model.fit(X_train, Y_train)\n",
    "predicted = model.predict(X_test)\n",
    "predicted"
   ]
  },
  {
   "cell_type": "code",
   "execution_count": 69,
   "id": "063eec6e",
   "metadata": {},
   "outputs": [
    {
     "data": {
      "text/html": [
       "<div>\n",
       "<style scoped>\n",
       "    .dataframe tbody tr th:only-of-type {\n",
       "        vertical-align: middle;\n",
       "    }\n",
       "\n",
       "    .dataframe tbody tr th {\n",
       "        vertical-align: top;\n",
       "    }\n",
       "\n",
       "    .dataframe thead th {\n",
       "        text-align: right;\n",
       "    }\n",
       "</style>\n",
       "<table border=\"1\" class=\"dataframe\">\n",
       "  <thead>\n",
       "    <tr style=\"text-align: right;\">\n",
       "      <th></th>\n",
       "      <th>ID</th>\n",
       "      <th>Status</th>\n",
       "    </tr>\n",
       "  </thead>\n",
       "  <tbody>\n",
       "    <tr>\n",
       "      <th>0</th>\n",
       "      <td>173560</td>\n",
       "      <td>0</td>\n",
       "    </tr>\n",
       "    <tr>\n",
       "      <th>1</th>\n",
       "      <td>173561</td>\n",
       "      <td>0</td>\n",
       "    </tr>\n",
       "    <tr>\n",
       "      <th>2</th>\n",
       "      <td>173562</td>\n",
       "      <td>1</td>\n",
       "    </tr>\n",
       "    <tr>\n",
       "      <th>3</th>\n",
       "      <td>173563</td>\n",
       "      <td>0</td>\n",
       "    </tr>\n",
       "    <tr>\n",
       "      <th>4</th>\n",
       "      <td>173564</td>\n",
       "      <td>1</td>\n",
       "    </tr>\n",
       "    <tr>\n",
       "      <th>...</th>\n",
       "      <td>...</td>\n",
       "      <td>...</td>\n",
       "    </tr>\n",
       "    <tr>\n",
       "      <th>63712</th>\n",
       "      <td>237272</td>\n",
       "      <td>0</td>\n",
       "    </tr>\n",
       "    <tr>\n",
       "      <th>63713</th>\n",
       "      <td>237273</td>\n",
       "      <td>0</td>\n",
       "    </tr>\n",
       "    <tr>\n",
       "      <th>63714</th>\n",
       "      <td>237274</td>\n",
       "      <td>0</td>\n",
       "    </tr>\n",
       "    <tr>\n",
       "      <th>63715</th>\n",
       "      <td>237275</td>\n",
       "      <td>0</td>\n",
       "    </tr>\n",
       "    <tr>\n",
       "      <th>63716</th>\n",
       "      <td>237276</td>\n",
       "      <td>0</td>\n",
       "    </tr>\n",
       "  </tbody>\n",
       "</table>\n",
       "<p>63717 rows × 2 columns</p>\n",
       "</div>"
      ],
      "text/plain": [
       "           ID  Status\n",
       "0      173560       0\n",
       "1      173561       0\n",
       "2      173562       1\n",
       "3      173563       0\n",
       "4      173564       1\n",
       "...       ...     ...\n",
       "63712  237272       0\n",
       "63713  237273       0\n",
       "63714  237274       0\n",
       "63715  237275       0\n",
       "63716  237276       0\n",
       "\n",
       "[63717 rows x 2 columns]"
      ]
     },
     "execution_count": 69,
     "metadata": {},
     "output_type": "execute_result"
    }
   ],
   "source": [
    "sub = pd.DataFrame({'ID': df2['ID'], 'Status': predicted})\n",
    "sub.to_csv('Sample_Submission.csv', index = False)\n",
    "pd.read_csv('Sample_Submission.csv')"
   ]
  },
  {
   "cell_type": "code",
   "execution_count": null,
   "id": "a78c9ae2",
   "metadata": {},
   "outputs": [],
   "source": []
  }
 ],
 "metadata": {
  "kernelspec": {
   "display_name": "Python 3",
   "language": "python",
   "name": "python3"
  },
  "language_info": {
   "codemirror_mode": {
    "name": "ipython",
    "version": 3
   },
   "file_extension": ".py",
   "mimetype": "text/x-python",
   "name": "python",
   "nbconvert_exporter": "python",
   "pygments_lexer": "ipython3",
   "version": "3.8.8"
  }
 },
 "nbformat": 4,
 "nbformat_minor": 5
}
